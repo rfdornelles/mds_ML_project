{
  "nbformat": 4,
  "nbformat_minor": 0,
  "metadata": {
    "colab": {
      "provenance": [],
      "include_colab_link": true
    },
    "kernelspec": {
      "name": "python3",
      "display_name": "Python 3"
    },
    "language_info": {
      "name": "python"
    }
  },
  "cells": [
    {
      "cell_type": "markdown",
      "metadata": {
        "id": "view-in-github",
        "colab_type": "text"
      },
      "source": [
        "<a href=\"https://colab.research.google.com/github/rfdornelles/mds_ML_project/blob/main/plot_scenarios_xgboost_karon2.ipynb\" target=\"_parent\"><img src=\"https://colab.research.google.com/assets/colab-badge.svg\" alt=\"Open In Colab\"/></a>"
      ]
    },
    {
      "cell_type": "code",
      "source": [
        "import pandas as pd\n",
        "\n",
        "df = pd.read_csv(\"https://raw.githubusercontent.com/rfdornelles/mds_ML_project/main/data/karon2.csv\")"
      ],
      "metadata": {
        "id": "NF5CXTL2Mm3r"
      },
      "execution_count": 1,
      "outputs": []
    },
    {
      "cell_type": "code",
      "source": [
        "df.head()"
      ],
      "metadata": {
        "colab": {
          "base_uri": "https://localhost:8080/",
          "height": 204
        },
        "id": "tNHjfEqDNmkT",
        "outputId": "54393258-b0f8-4ffe-c258-0802a808c5db"
      },
      "execution_count": 2,
      "outputs": [
        {
          "output_type": "execute_result",
          "data": {
            "text/plain": [
              "   year  country      temp  population  qnt_death_heat_cold_exposure  \\\n",
              "0  1991  Albania  6.219891     3266790                             5   \n",
              "1  1992  Albania  6.284930     3247039                             5   \n",
              "2  1993  Albania  6.324316     3227287                             5   \n",
              "3  1994  Albania  6.357706     3207536                             5   \n",
              "4  1995  Albania  6.402805     3187784                             6   \n",
              "\n",
              "   temp_diff  \n",
              "0   0.050951  \n",
              "1   0.065040  \n",
              "2   0.039385  \n",
              "3   0.033390  \n",
              "4   0.045099  "
            ],
            "text/html": [
              "\n",
              "  <div id=\"df-5d0cbb73-edc6-4171-8dc0-b402a825e4eb\">\n",
              "    <div class=\"colab-df-container\">\n",
              "      <div>\n",
              "<style scoped>\n",
              "    .dataframe tbody tr th:only-of-type {\n",
              "        vertical-align: middle;\n",
              "    }\n",
              "\n",
              "    .dataframe tbody tr th {\n",
              "        vertical-align: top;\n",
              "    }\n",
              "\n",
              "    .dataframe thead th {\n",
              "        text-align: right;\n",
              "    }\n",
              "</style>\n",
              "<table border=\"1\" class=\"dataframe\">\n",
              "  <thead>\n",
              "    <tr style=\"text-align: right;\">\n",
              "      <th></th>\n",
              "      <th>year</th>\n",
              "      <th>country</th>\n",
              "      <th>temp</th>\n",
              "      <th>population</th>\n",
              "      <th>qnt_death_heat_cold_exposure</th>\n",
              "      <th>temp_diff</th>\n",
              "    </tr>\n",
              "  </thead>\n",
              "  <tbody>\n",
              "    <tr>\n",
              "      <th>0</th>\n",
              "      <td>1991</td>\n",
              "      <td>Albania</td>\n",
              "      <td>6.219891</td>\n",
              "      <td>3266790</td>\n",
              "      <td>5</td>\n",
              "      <td>0.050951</td>\n",
              "    </tr>\n",
              "    <tr>\n",
              "      <th>1</th>\n",
              "      <td>1992</td>\n",
              "      <td>Albania</td>\n",
              "      <td>6.284930</td>\n",
              "      <td>3247039</td>\n",
              "      <td>5</td>\n",
              "      <td>0.065040</td>\n",
              "    </tr>\n",
              "    <tr>\n",
              "      <th>2</th>\n",
              "      <td>1993</td>\n",
              "      <td>Albania</td>\n",
              "      <td>6.324316</td>\n",
              "      <td>3227287</td>\n",
              "      <td>5</td>\n",
              "      <td>0.039385</td>\n",
              "    </tr>\n",
              "    <tr>\n",
              "      <th>3</th>\n",
              "      <td>1994</td>\n",
              "      <td>Albania</td>\n",
              "      <td>6.357706</td>\n",
              "      <td>3207536</td>\n",
              "      <td>5</td>\n",
              "      <td>0.033390</td>\n",
              "    </tr>\n",
              "    <tr>\n",
              "      <th>4</th>\n",
              "      <td>1995</td>\n",
              "      <td>Albania</td>\n",
              "      <td>6.402805</td>\n",
              "      <td>3187784</td>\n",
              "      <td>6</td>\n",
              "      <td>0.045099</td>\n",
              "    </tr>\n",
              "  </tbody>\n",
              "</table>\n",
              "</div>\n",
              "      <button class=\"colab-df-convert\" onclick=\"convertToInteractive('df-5d0cbb73-edc6-4171-8dc0-b402a825e4eb')\"\n",
              "              title=\"Convert this dataframe to an interactive table.\"\n",
              "              style=\"display:none;\">\n",
              "        \n",
              "  <svg xmlns=\"http://www.w3.org/2000/svg\" height=\"24px\"viewBox=\"0 0 24 24\"\n",
              "       width=\"24px\">\n",
              "    <path d=\"M0 0h24v24H0V0z\" fill=\"none\"/>\n",
              "    <path d=\"M18.56 5.44l.94 2.06.94-2.06 2.06-.94-2.06-.94-.94-2.06-.94 2.06-2.06.94zm-11 1L8.5 8.5l.94-2.06 2.06-.94-2.06-.94L8.5 2.5l-.94 2.06-2.06.94zm10 10l.94 2.06.94-2.06 2.06-.94-2.06-.94-.94-2.06-.94 2.06-2.06.94z\"/><path d=\"M17.41 7.96l-1.37-1.37c-.4-.4-.92-.59-1.43-.59-.52 0-1.04.2-1.43.59L10.3 9.45l-7.72 7.72c-.78.78-.78 2.05 0 2.83L4 21.41c.39.39.9.59 1.41.59.51 0 1.02-.2 1.41-.59l7.78-7.78 2.81-2.81c.8-.78.8-2.07 0-2.86zM5.41 20L4 18.59l7.72-7.72 1.47 1.35L5.41 20z\"/>\n",
              "  </svg>\n",
              "      </button>\n",
              "      \n",
              "  <style>\n",
              "    .colab-df-container {\n",
              "      display:flex;\n",
              "      flex-wrap:wrap;\n",
              "      gap: 12px;\n",
              "    }\n",
              "\n",
              "    .colab-df-convert {\n",
              "      background-color: #E8F0FE;\n",
              "      border: none;\n",
              "      border-radius: 50%;\n",
              "      cursor: pointer;\n",
              "      display: none;\n",
              "      fill: #1967D2;\n",
              "      height: 32px;\n",
              "      padding: 0 0 0 0;\n",
              "      width: 32px;\n",
              "    }\n",
              "\n",
              "    .colab-df-convert:hover {\n",
              "      background-color: #E2EBFA;\n",
              "      box-shadow: 0px 1px 2px rgba(60, 64, 67, 0.3), 0px 1px 3px 1px rgba(60, 64, 67, 0.15);\n",
              "      fill: #174EA6;\n",
              "    }\n",
              "\n",
              "    [theme=dark] .colab-df-convert {\n",
              "      background-color: #3B4455;\n",
              "      fill: #D2E3FC;\n",
              "    }\n",
              "\n",
              "    [theme=dark] .colab-df-convert:hover {\n",
              "      background-color: #434B5C;\n",
              "      box-shadow: 0px 1px 3px 1px rgba(0, 0, 0, 0.15);\n",
              "      filter: drop-shadow(0px 1px 2px rgba(0, 0, 0, 0.3));\n",
              "      fill: #FFFFFF;\n",
              "    }\n",
              "  </style>\n",
              "\n",
              "      <script>\n",
              "        const buttonEl =\n",
              "          document.querySelector('#df-5d0cbb73-edc6-4171-8dc0-b402a825e4eb button.colab-df-convert');\n",
              "        buttonEl.style.display =\n",
              "          google.colab.kernel.accessAllowed ? 'block' : 'none';\n",
              "\n",
              "        async function convertToInteractive(key) {\n",
              "          const element = document.querySelector('#df-5d0cbb73-edc6-4171-8dc0-b402a825e4eb');\n",
              "          const dataTable =\n",
              "            await google.colab.kernel.invokeFunction('convertToInteractive',\n",
              "                                                     [key], {});\n",
              "          if (!dataTable) return;\n",
              "\n",
              "          const docLinkHtml = 'Like what you see? Visit the ' +\n",
              "            '<a target=\"_blank\" href=https://colab.research.google.com/notebooks/data_table.ipynb>data table notebook</a>'\n",
              "            + ' to learn more about interactive tables.';\n",
              "          element.innerHTML = '';\n",
              "          dataTable['output_type'] = 'display_data';\n",
              "          await google.colab.output.renderOutput(dataTable, element);\n",
              "          const docLink = document.createElement('div');\n",
              "          docLink.innerHTML = docLinkHtml;\n",
              "          element.appendChild(docLink);\n",
              "        }\n",
              "      </script>\n",
              "    </div>\n",
              "  </div>\n",
              "  "
            ]
          },
          "metadata": {},
          "execution_count": 2
        }
      ]
    },
    {
      "cell_type": "code",
      "source": [
        "X = df.drop([\"qnt_death_heat_cold_exposure\", \"country\", \"temp_diff\"], axis = 1).to_numpy()\n",
        "y = df[\"qnt_death_heat_cold_exposure\"].to_numpy()"
      ],
      "metadata": {
        "id": "iK8_vVOBN19c"
      },
      "execution_count": 3,
      "outputs": []
    },
    {
      "cell_type": "code",
      "source": [
        "#https://www.kaggle.com/code/stuarthallows/using-xgboost-with-scikit-learn/notebook "
      ],
      "metadata": {
        "id": "_2al4Ols4gRf"
      },
      "execution_count": 4,
      "outputs": []
    },
    {
      "cell_type": "code",
      "source": [
        "import numpy as np\n",
        "\n",
        "from scipy.stats import uniform, randint\n",
        "\n",
        "from sklearn.datasets import load_breast_cancer, load_diabetes, load_wine\n",
        "from sklearn.metrics import auc, accuracy_score, confusion_matrix, mean_squared_error\n",
        "from sklearn.model_selection import cross_val_score, GridSearchCV, KFold, RandomizedSearchCV, train_test_split\n",
        "from sklearn.metrics import r2_score\n",
        "\n",
        "import xgboost as xgb"
      ],
      "metadata": {
        "id": "tSxjUtI04NnH"
      },
      "execution_count": 5,
      "outputs": []
    },
    {
      "cell_type": "code",
      "source": [
        "def display_scores(scores):\n",
        "    print(\"Scores: {0}\\nMean: {1:.3f}\\nStd: {2:.3f}\".format(scores, np.mean(scores), np.std(scores)))"
      ],
      "metadata": {
        "id": "iD8hnkNk4dU3"
      },
      "execution_count": 6,
      "outputs": []
    },
    {
      "cell_type": "code",
      "source": [
        "def report_best_scores(results, n_top=3):\n",
        "    for i in range(1, n_top + 1):\n",
        "        candidates = np.flatnonzero(results['rank_test_score'] == i)\n",
        "        for candidate in candidates:\n",
        "            print(\"Model with rank: {0}\".format(i))\n",
        "            print(\"Mean validation score: {0:.3f} (std: {1:.3f})\".format(\n",
        "                  results['mean_test_score'][candidate],\n",
        "                  results['std_test_score'][candidate]))\n",
        "            print(\"Parameters: {0}\".format(results['params'][candidate]))\n",
        "            print(\"\")"
      ],
      "metadata": {
        "id": "FHn9u2Vb4eHO"
      },
      "execution_count": 7,
      "outputs": []
    },
    {
      "cell_type": "code",
      "source": [
        "xgb_model = xgb.XGBRegressor(objective=\"reg:squarederror\", random_state=42)\n",
        "\n",
        "xgb_model.fit(X, y)\n",
        "\n",
        "y_pred = xgb_model.predict(X)\n",
        "\n",
        "mse=mean_squared_error(y, y_pred)\n",
        "\n",
        "print(np.sqrt(mse))\n",
        "print(\"R2:\", r2_score(y, y_pred))"
      ],
      "metadata": {
        "colab": {
          "base_uri": "https://localhost:8080/"
        },
        "id": "p2C9zswy4q4k",
        "outputId": "0f2a014f-3b74-4c23-eaec-47d72ea67ffc"
      },
      "execution_count": 8,
      "outputs": [
        {
          "output_type": "stream",
          "name": "stdout",
          "text": [
            "67.34764630310802\n",
            "R2: 0.9861534867247158\n"
          ]
        }
      ]
    },
    {
      "cell_type": "code",
      "source": [
        "xgb_model"
      ],
      "metadata": {
        "colab": {
          "base_uri": "https://localhost:8080/"
        },
        "id": "RdVLNG744y5V",
        "outputId": "78818086-1365-4536-b349-ba6af4179560"
      },
      "execution_count": 9,
      "outputs": [
        {
          "output_type": "execute_result",
          "data": {
            "text/plain": [
              "XGBRegressor(objective='reg:squarederror', random_state=42)"
            ]
          },
          "metadata": {},
          "execution_count": 9
        }
      ]
    },
    {
      "cell_type": "code",
      "source": [
        "kfold = KFold(n_splits=5, shuffle=True, random_state=42)\n",
        "\n",
        "X_train, X_test, y_train, y_test = train_test_split(\n",
        "    X, y, test_size=0.2, random_state=13\n",
        ")\n",
        "\n",
        "scores = []"
      ],
      "metadata": {
        "id": "jS9ytijQ44tn"
      },
      "execution_count": 10,
      "outputs": []
    },
    {
      "cell_type": "code",
      "source": [
        "for train_index, test_index in kfold.split(X):   \n",
        "    X_train, X_test = X[train_index], X[test_index]\n",
        "    y_train, y_test = y[train_index], y[test_index]\n",
        "\n",
        "    xgb_model = xgb.XGBRegressor(objective=\"reg:squarederror\")\n",
        "    xgb_model.fit(X_train, y_train)\n",
        "    \n",
        "    y_pred = xgb_model.predict(X_test)\n",
        "    \n",
        "    scores.append(mean_squared_error(y_test, y_pred))\n",
        "    \n",
        "display_scores(np.sqrt(scores))\n",
        "print(\"R2:\", r2_score(y_test, y_pred))"
      ],
      "metadata": {
        "colab": {
          "base_uri": "https://localhost:8080/"
        },
        "id": "Ilte6edJ5a6E",
        "outputId": "7ff97afc-334a-4dc7-f520-4a3345e2bbdc"
      },
      "execution_count": 11,
      "outputs": [
        {
          "output_type": "stream",
          "name": "stdout",
          "text": [
            "Scores: [102.90442912  86.73481857  97.15700031 117.28103054 122.66048715]\n",
            "Mean: 105.348\n",
            "Std: 13.127\n",
            "R2: 0.9437446154139051\n"
          ]
        }
      ]
    },
    {
      "cell_type": "code",
      "source": [
        "xgb_model = xgb.XGBRegressor(objective=\"reg:squarederror\", random_state=42)\n",
        "\n",
        "scores = cross_val_score(xgb_model, X, y, scoring=\"neg_mean_squared_error\", cv=5)\n",
        "\n",
        "display_scores(np.sqrt(-scores))"
      ],
      "metadata": {
        "colab": {
          "base_uri": "https://localhost:8080/"
        },
        "id": "OnWVrVqG6aEi",
        "outputId": "c7cb4ece-d5ac-4240-8bf8-c07aee2951c5"
      },
      "execution_count": 12,
      "outputs": [
        {
          "output_type": "stream",
          "name": "stdout",
          "text": [
            "Scores: [ 256.57654267 1071.80656933  173.99060636  128.40856853 1207.45216773]\n",
            "Mean: 567.647\n",
            "Std: 470.784\n"
          ]
        }
      ]
    },
    {
      "cell_type": "code",
      "source": [
        "xgb_model = xgb.XGBRegressor(objective=\"reg:squarederror\", random_state=42)\n",
        "\n",
        "params = {\n",
        "    \"colsample_bytree\": uniform(0.7, 0.3),\n",
        "    \"gamma\": uniform(0, 0.5),\n",
        "    \"learning_rate\": uniform(0.03, 0.3), # default 0.1 \n",
        "    \"max_depth\": randint(2, 6), # default 3\n",
        "    \"n_estimators\": randint(100, 150), # default 100\n",
        "    \"subsample\": uniform(0.6, 0.4)\n",
        "}\n",
        "\n",
        "search = RandomizedSearchCV(xgb_model, param_distributions=params, random_state=42, n_iter=200, cv=3, verbose=1, n_jobs=1, return_train_score=True)\n",
        "\n",
        "search.fit(X, y)\n",
        "\n",
        "report_best_scores(search.cv_results_, 5)\n"
      ],
      "metadata": {
        "colab": {
          "base_uri": "https://localhost:8080/"
        },
        "id": "fnOEYqvY6iyH",
        "outputId": "125ea37b-2c82-4c43-d354-296c75e08db5"
      },
      "execution_count": 18,
      "outputs": [
        {
          "output_type": "stream",
          "name": "stdout",
          "text": [
            "Fitting 3 folds for each of 200 candidates, totalling 600 fits\n",
            "Model with rank: 1\n",
            "Mean validation score: -0.562 (std: 0.735)\n",
            "Parameters: {'colsample_bytree': 0.9040922615763338, 'gamma': 0.2252496259847715, 'learning_rate': 0.033979488347959955, 'max_depth': 2, 'n_estimators': 113, 'subsample': 0.9233589392465844}\n",
            "\n",
            "Model with rank: 2\n",
            "Mean validation score: -0.565 (std: 0.739)\n",
            "Parameters: {'colsample_bytree': 0.7902634929450308, 'gamma': 0.1424202471887338, 'learning_rate': 0.041066084206359835, 'max_depth': 2, 'n_estimators': 101, 'subsample': 0.8010716092915446}\n",
            "\n",
            "Model with rank: 3\n",
            "Mean validation score: -0.586 (std: 0.758)\n",
            "Parameters: {'colsample_bytree': 0.7516959613604889, 'gamma': 0.09614450940433539, 'learning_rate': 0.042260584879943656, 'max_depth': 2, 'n_estimators': 117, 'subsample': 0.7114361356127834}\n",
            "\n",
            "Model with rank: 4\n",
            "Mean validation score: -0.611 (std: 0.435)\n",
            "Parameters: {'colsample_bytree': 0.9266653415629146, 'gamma': 0.11439908274581123, 'learning_rate': 0.053093972948637894, 'max_depth': 4, 'n_estimators': 121, 'subsample': 0.9521871356061031}\n",
            "\n",
            "Model with rank: 5\n",
            "Mean validation score: -0.612 (std: 0.404)\n",
            "Parameters: {'colsample_bytree': 0.8136464696670747, 'gamma': 0.22850010964083917, 'learning_rate': 0.21118736162175375, 'max_depth': 4, 'n_estimators': 128, 'subsample': 0.8159442548451347}\n",
            "\n"
          ]
        }
      ]
    },
    {
      "cell_type": "code",
      "source": [
        "mse = mean_squared_error(y_test, search.predict(X_test))\n",
        "print(\"The mean squared error (MSE) on test set: {:.4f}\".format(mse))"
      ],
      "metadata": {
        "colab": {
          "base_uri": "https://localhost:8080/"
        },
        "id": "S9-Artf-z-kp",
        "outputId": "3fc8939e-dd41-42ba-f7b7-ae22a6d17916"
      },
      "execution_count": 14,
      "outputs": [
        {
          "output_type": "stream",
          "name": "stdout",
          "text": [
            "The mean squared error (MSE) on test set: 51675.1158\n"
          ]
        }
      ]
    },
    {
      "cell_type": "code",
      "source": [
        "best_params = {'colsample_bytree': 0.9040922615763338, 'gamma': 0.2252496259847715, 'learning_rate': 0.033979488347959955, 'max_depth': 2, 'n_estimators': 113, 'subsample': 0.9233589392465844}\n",
        "\n",
        "xgb_model = xgb.XGBRegressor(objective=\"reg:squarederror\", \n",
        "                             random_state=42, \n",
        "                             params = best_params)\n",
        "\n",
        "xgb_model.fit(X_train, y_train)\n",
        "\n",
        "pred = xgb_model.predict(X_test)\n",
        "\n"
      ],
      "metadata": {
        "id": "24BzgR0L9vs1"
      },
      "execution_count": 19,
      "outputs": []
    },
    {
      "cell_type": "code",
      "source": [
        "from sklearn.metrics import r2_score, mean_squared_error\n",
        "\n",
        "\n",
        "R2 = r2_score(y_test, pred)\n",
        "\n",
        "\n",
        "n = X.shape[0]\n",
        "p = X.shape[1]\n",
        "Adj_r2 = 1-(1-R2)*(n-1)/(n-p-1)\n",
        "\n",
        "rmse = mean_squared_error(y_test, pred, squared = False)\n",
        "mse = mean_squared_error(y_test, pred, squared = True)\n",
        "\n",
        "print(\"R2:\", R2)\n",
        "print(\"AdjR2:\", Adj_r2)\n",
        "print(\"RMSE:\", rmse)\n",
        "print(\"MSE:\", mse)"
      ],
      "metadata": {
        "id": "IMyxMxctEmO1",
        "outputId": "050a7638-6398-4d8d-eed3-e00328fa964f",
        "colab": {
          "base_uri": "https://localhost:8080/"
        }
      },
      "execution_count": 20,
      "outputs": [
        {
          "output_type": "stream",
          "name": "stdout",
          "text": [
            "R2: 0.9437446154139051\n",
            "AdjR2: 0.9436404387757827\n",
            "RMSE: 122.66048714938465\n",
            "MSE: 15045.595107724355\n"
          ]
        }
      ]
    },
    {
      "cell_type": "code",
      "source": [
        "# Predictions\n",
        "\n",
        "df_rcp45 = pd.read_csv(\"https://github.com/rfdornelles/mds_ML_project/raw/main/data/pred_y_2022_2050_rcp45.csv\")\n",
        "\n",
        "X_rcp45 = df_rcp45[df_rcp45[\"country\"] == \"Germany\"].drop([\"country\"],axis = 1)"
      ],
      "metadata": {
        "id": "4cXg7jyUwZZY"
      },
      "execution_count": 21,
      "outputs": []
    },
    {
      "cell_type": "code",
      "source": [
        "y_rcp45 = xgb_model.predict(X_rcp45.to_numpy())"
      ],
      "metadata": {
        "id": "WEGmoIDa04fG"
      },
      "execution_count": 22,
      "outputs": []
    },
    {
      "cell_type": "code",
      "source": [
        "X_rcp45[\"pred_rcp45\"] = y_rcp45.round()"
      ],
      "metadata": {
        "id": "nS5zjvOX14Pu"
      },
      "execution_count": 23,
      "outputs": []
    },
    {
      "cell_type": "markdown",
      "source": [
        "RCP 85"
      ],
      "metadata": {
        "id": "jbJfgvxN31Dt"
      }
    },
    {
      "cell_type": "code",
      "source": [
        "# Predictions\n",
        "\n",
        "df_rcp85 = pd.read_csv(\"https://github.com/rfdornelles/mds_ML_project/raw/main/data/pred_y_2022_2050_rcp85.csv\")\n",
        "\n",
        "X_rcp85 = df_rcp85[df_rcp85[\"country\"] == \"Germany\"].drop([\"country\"],axis = 1)"
      ],
      "metadata": {
        "id": "ojBLpgr_34Qm"
      },
      "execution_count": 25,
      "outputs": []
    },
    {
      "cell_type": "code",
      "source": [
        "y_rcp85 = xgb_model.predict(X_rcp85.to_numpy())"
      ],
      "metadata": {
        "id": "1rmxnq6334Qo"
      },
      "execution_count": 26,
      "outputs": []
    },
    {
      "cell_type": "code",
      "source": [
        "X_rcp85[\"pred_rcp85\"] = y_rcp85.round()"
      ],
      "metadata": {
        "id": "2NNXmxp834Qo"
      },
      "execution_count": 27,
      "outputs": []
    },
    {
      "cell_type": "code",
      "source": [
        "plot_df = pd.DataFrame()\n",
        "plot_df[\"year\"] = range(1991, 2051)"
      ],
      "metadata": {
        "id": "y6QxZIz-5Net"
      },
      "execution_count": 28,
      "outputs": []
    },
    {
      "cell_type": "code",
      "source": [
        "df_actual_values = df[df[\"country\"] == \"Germany\"][[\"year\", \"qnt_death_heat_cold_exposure\"]]"
      ],
      "metadata": {
        "id": "OtqsHZaC85_4"
      },
      "execution_count": 29,
      "outputs": []
    },
    {
      "cell_type": "code",
      "source": [
        "df_rcp85 = X_rcp85[[\"year\", \"pred_rcp85\"]]"
      ],
      "metadata": {
        "id": "nyjaXhrs-Ivb"
      },
      "execution_count": 30,
      "outputs": []
    },
    {
      "cell_type": "code",
      "source": [
        "df_rcp45 = X_rcp45[[\"year\", \"pred_rcp45\"]]"
      ],
      "metadata": {
        "id": "kKfDteEi-Vml"
      },
      "execution_count": 31,
      "outputs": []
    },
    {
      "cell_type": "code",
      "source": [
        "plot_df = plot_df.merge(df_actual_values, on = \"year\", how = \"left\")\n",
        "\n",
        "plot_df = plot_df.merge(df_rcp45, on = \"year\", how = \"left\")\n",
        "\n",
        "plot_df = plot_df.merge(df_rcp85, on = \"year\", how = \"left\")"
      ],
      "metadata": {
        "id": "CMxWig_--0kL"
      },
      "execution_count": 33,
      "outputs": []
    },
    {
      "cell_type": "code",
      "source": [
        "# importing package\n",
        "import matplotlib.pyplot as plt\n",
        "\n",
        "# plot lines\n",
        "\n",
        "plt.plot(df_actual_values[\"year\"], df_actual_values[\"qnt_death_heat_cold_exposure\"], label = \"Actual Values\")\n",
        "plt.plot(df_rcp45[\"year\"], df_rcp45[\"pred_rcp45\"], linestyle=\"dashed\", label = \"RCP 45\")\n",
        "plt.plot(df_rcp85[\"year\"], df_rcp85[\"pred_rcp85\"], linestyle=\"dotted\", label = \"RCP 85\")\n",
        "plt.legend()\n",
        "plt.show()\n"
      ],
      "metadata": {
        "colab": {
          "base_uri": "https://localhost:8080/",
          "height": 265
        },
        "id": "H7i4llDQBbCf",
        "outputId": "df58c694-78b4-45f8-d78d-003ae5c4522d"
      },
      "execution_count": 34,
      "outputs": [
        {
          "output_type": "display_data",
          "data": {
            "text/plain": [
              "<Figure size 432x288 with 1 Axes>"
            ],
            "image/png": "[encoded data removed]"
          },
          "metadata": {
            "needs_background": "light"
          }
        }
      ]
    }
  ]
}