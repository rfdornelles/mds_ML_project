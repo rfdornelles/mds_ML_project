{
 "cells": [
  {
   "cell_type": "code",
   "execution_count": 1,
   "id": "41dc2739",
   "metadata": {},
   "outputs": [],
   "source": [
    "import pandas as pd"
   ]
  },
  {
   "cell_type": "code",
   "execution_count": 4,
   "id": "20fc502e",
   "metadata": {},
   "outputs": [],
   "source": [
    "#data = pd.read_csv(\"Deaths_Germany_years_nationality_sex_age_years\")\n",
    "data = pd.read_csv(\"http://localhost:8888/edit/Deaths_Germany_years_nationality_sex_age_years.csv\", on_bad_lines='skip')"
   ]
  },
  {
   "cell_type": "code",
   "execution_count": 6,
   "id": "90c805aa",
   "metadata": {},
   "outputs": [
    {
     "name": "stdout",
     "output_type": "stream",
     "text": [
      "                                       <!DOCTYPE HTML>\n",
      "0                                               <html>\n",
      "1                                               <head>\n",
      "2                               <meta charset=\"utf-8\">\n",
      "3                      <title>Jupyter Notebook</title>\n",
      "4        <link id=\"favicon\" rel=\"shortcut icon\" typ...\n",
      "..                                                 ...\n",
      "165                                                  }\n",
      "166                          _remove_token_from_url();\n",
      "167                                          </script>\n",
      "168                                            </body>\n",
      "169                                            </html>\n",
      "\n",
      "[170 rows x 1 columns]\n"
     ]
    }
   ],
   "source": [
    "print(data)"
   ]
  },
  {
   "cell_type": "code",
   "execution_count": null,
   "id": "f3d1f89c",
   "metadata": {},
   "outputs": [],
   "source": []
  }
 ],
 "metadata": {
  "kernelspec": {
   "display_name": "Python 3 (ipykernel)",
   "language": "python",
   "name": "python3"
  },
  "language_info": {
   "codemirror_mode": {
    "name": "ipython",
    "version": 3
   },
   "file_extension": ".py",
   "mimetype": "text/x-python",
   "name": "python",
   "nbconvert_exporter": "python",
   "pygments_lexer": "ipython3",
   "version": "3.9.12"
  }
 },
 "nbformat": 4,
 "nbformat_minor": 5
}
