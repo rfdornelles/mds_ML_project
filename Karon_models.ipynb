{
  "nbformat": 4,
  "nbformat_minor": 0,
  "metadata": {
    "colab": {
      "provenance": [],
      "collapsed_sections": [
        "x4ZNBoG1HyxO",
        "-LcaajHUKMN6",
        "ZGeQq3A8LTT5"
      ],
      "authorship_tag": "ABX9TyPCa9KDho3Zyb/3G09vQ8AI",
      "include_colab_link": true
    },
    "kernelspec": {
      "name": "python3",
      "display_name": "Python 3"
    },
    "language_info": {
      "name": "python"
    }
  },
  "cells": [
    {
      "cell_type": "markdown",
      "metadata": {
        "id": "view-in-github",
        "colab_type": "text"
      },
      "source": [
        "<a href=\"https://colab.research.google.com/github/rfdornelles/mds_ML_project/blob/main/Karon_models.ipynb\" target=\"_parent\"><img src=\"https://colab.research.google.com/assets/colab-badge.svg\" alt=\"Open In Colab\"/></a>"
      ]
    },
    {
      "cell_type": "markdown",
      "source": [
        "# Import datasets and split"
      ],
      "metadata": {
        "id": "9xTxmRssGQh_"
      }
    },
    {
      "cell_type": "code",
      "source": [
        "import pandas as pd\n",
        "\n",
        "df = pd.read_csv(\"https://raw.githubusercontent.com/rfdornelles/mds_ML_project/main/data/karon2.csv\")"
      ],
      "metadata": {
        "id": "NF5CXTL2Mm3r"
      },
      "execution_count": 3,
      "outputs": []
    },
    {
      "cell_type": "code",
      "source": [
        "df.head()"
      ],
      "metadata": {
        "colab": {
          "base_uri": "https://localhost:8080/",
          "height": 204
        },
        "id": "tNHjfEqDNmkT",
        "outputId": "270b8c36-0f5b-4043-ddde-1b7112cb6a7d"
      },
      "execution_count": 4,
      "outputs": [
        {
          "output_type": "execute_result",
          "data": {
            "text/plain": [
              "   year  country      temp  population  qnt_death_heat_cold_exposure  \\\n",
              "0  1991  Albania  6.219891     3266790                             5   \n",
              "1  1992  Albania  6.284930     3247039                             5   \n",
              "2  1993  Albania  6.324316     3227287                             5   \n",
              "3  1994  Albania  6.357706     3207536                             5   \n",
              "4  1995  Albania  6.402805     3187784                             6   \n",
              "\n",
              "   temp_diff  \n",
              "0   0.050951  \n",
              "1   0.065040  \n",
              "2   0.039385  \n",
              "3   0.033390  \n",
              "4   0.045099  "
            ],
            "text/html": [
              "\n",
              "  <div id=\"df-1ddc18fe-3c9a-447b-bdac-b57cba65d9a5\">\n",
              "    <div class=\"colab-df-container\">\n",
              "      <div>\n",
              "<style scoped>\n",
              "    .dataframe tbody tr th:only-of-type {\n",
              "        vertical-align: middle;\n",
              "    }\n",
              "\n",
              "    .dataframe tbody tr th {\n",
              "        vertical-align: top;\n",
              "    }\n",
              "\n",
              "    .dataframe thead th {\n",
              "        text-align: right;\n",
              "    }\n",
              "</style>\n",
              "<table border=\"1\" class=\"dataframe\">\n",
              "  <thead>\n",
              "    <tr style=\"text-align: right;\">\n",
              "      <th></th>\n",
              "      <th>year</th>\n",
              "      <th>country</th>\n",
              "      <th>temp</th>\n",
              "      <th>population</th>\n",
              "      <th>qnt_death_heat_cold_exposure</th>\n",
              "      <th>temp_diff</th>\n",
              "    </tr>\n",
              "  </thead>\n",
              "  <tbody>\n",
              "    <tr>\n",
              "      <th>0</th>\n",
              "      <td>1991</td>\n",
              "      <td>Albania</td>\n",
              "      <td>6.219891</td>\n",
              "      <td>3266790</td>\n",
              "      <td>5</td>\n",
              "      <td>0.050951</td>\n",
              "    </tr>\n",
              "    <tr>\n",
              "      <th>1</th>\n",
              "      <td>1992</td>\n",
              "      <td>Albania</td>\n",
              "      <td>6.284930</td>\n",
              "      <td>3247039</td>\n",
              "      <td>5</td>\n",
              "      <td>0.065040</td>\n",
              "    </tr>\n",
              "    <tr>\n",
              "      <th>2</th>\n",
              "      <td>1993</td>\n",
              "      <td>Albania</td>\n",
              "      <td>6.324316</td>\n",
              "      <td>3227287</td>\n",
              "      <td>5</td>\n",
              "      <td>0.039385</td>\n",
              "    </tr>\n",
              "    <tr>\n",
              "      <th>3</th>\n",
              "      <td>1994</td>\n",
              "      <td>Albania</td>\n",
              "      <td>6.357706</td>\n",
              "      <td>3207536</td>\n",
              "      <td>5</td>\n",
              "      <td>0.033390</td>\n",
              "    </tr>\n",
              "    <tr>\n",
              "      <th>4</th>\n",
              "      <td>1995</td>\n",
              "      <td>Albania</td>\n",
              "      <td>6.402805</td>\n",
              "      <td>3187784</td>\n",
              "      <td>6</td>\n",
              "      <td>0.045099</td>\n",
              "    </tr>\n",
              "  </tbody>\n",
              "</table>\n",
              "</div>\n",
              "      <button class=\"colab-df-convert\" onclick=\"convertToInteractive('df-1ddc18fe-3c9a-447b-bdac-b57cba65d9a5')\"\n",
              "              title=\"Convert this dataframe to an interactive table.\"\n",
              "              style=\"display:none;\">\n",
              "        \n",
              "  <svg xmlns=\"http://www.w3.org/2000/svg\" height=\"24px\"viewBox=\"0 0 24 24\"\n",
              "       width=\"24px\">\n",
              "    <path d=\"M0 0h24v24H0V0z\" fill=\"none\"/>\n",
              "    <path d=\"M18.56 5.44l.94 2.06.94-2.06 2.06-.94-2.06-.94-.94-2.06-.94 2.06-2.06.94zm-11 1L8.5 8.5l.94-2.06 2.06-.94-2.06-.94L8.5 2.5l-.94 2.06-2.06.94zm10 10l.94 2.06.94-2.06 2.06-.94-2.06-.94-.94-2.06-.94 2.06-2.06.94z\"/><path d=\"M17.41 7.96l-1.37-1.37c-.4-.4-.92-.59-1.43-.59-.52 0-1.04.2-1.43.59L10.3 9.45l-7.72 7.72c-.78.78-.78 2.05 0 2.83L4 21.41c.39.39.9.59 1.41.59.51 0 1.02-.2 1.41-.59l7.78-7.78 2.81-2.81c.8-.78.8-2.07 0-2.86zM5.41 20L4 18.59l7.72-7.72 1.47 1.35L5.41 20z\"/>\n",
              "  </svg>\n",
              "      </button>\n",
              "      \n",
              "  <style>\n",
              "    .colab-df-container {\n",
              "      display:flex;\n",
              "      flex-wrap:wrap;\n",
              "      gap: 12px;\n",
              "    }\n",
              "\n",
              "    .colab-df-convert {\n",
              "      background-color: #E8F0FE;\n",
              "      border: none;\n",
              "      border-radius: 50%;\n",
              "      cursor: pointer;\n",
              "      display: none;\n",
              "      fill: #1967D2;\n",
              "      height: 32px;\n",
              "      padding: 0 0 0 0;\n",
              "      width: 32px;\n",
              "    }\n",
              "\n",
              "    .colab-df-convert:hover {\n",
              "      background-color: #E2EBFA;\n",
              "      box-shadow: 0px 1px 2px rgba(60, 64, 67, 0.3), 0px 1px 3px 1px rgba(60, 64, 67, 0.15);\n",
              "      fill: #174EA6;\n",
              "    }\n",
              "\n",
              "    [theme=dark] .colab-df-convert {\n",
              "      background-color: #3B4455;\n",
              "      fill: #D2E3FC;\n",
              "    }\n",
              "\n",
              "    [theme=dark] .colab-df-convert:hover {\n",
              "      background-color: #434B5C;\n",
              "      box-shadow: 0px 1px 3px 1px rgba(0, 0, 0, 0.15);\n",
              "      filter: drop-shadow(0px 1px 2px rgba(0, 0, 0, 0.3));\n",
              "      fill: #FFFFFF;\n",
              "    }\n",
              "  </style>\n",
              "\n",
              "      <script>\n",
              "        const buttonEl =\n",
              "          document.querySelector('#df-1ddc18fe-3c9a-447b-bdac-b57cba65d9a5 button.colab-df-convert');\n",
              "        buttonEl.style.display =\n",
              "          google.colab.kernel.accessAllowed ? 'block' : 'none';\n",
              "\n",
              "        async function convertToInteractive(key) {\n",
              "          const element = document.querySelector('#df-1ddc18fe-3c9a-447b-bdac-b57cba65d9a5');\n",
              "          const dataTable =\n",
              "            await google.colab.kernel.invokeFunction('convertToInteractive',\n",
              "                                                     [key], {});\n",
              "          if (!dataTable) return;\n",
              "\n",
              "          const docLinkHtml = 'Like what you see? Visit the ' +\n",
              "            '<a target=\"_blank\" href=https://colab.research.google.com/notebooks/data_table.ipynb>data table notebook</a>'\n",
              "            + ' to learn more about interactive tables.';\n",
              "          element.innerHTML = '';\n",
              "          dataTable['output_type'] = 'display_data';\n",
              "          await google.colab.output.renderOutput(dataTable, element);\n",
              "          const docLink = document.createElement('div');\n",
              "          docLink.innerHTML = docLinkHtml;\n",
              "          element.appendChild(docLink);\n",
              "        }\n",
              "      </script>\n",
              "    </div>\n",
              "  </div>\n",
              "  "
            ]
          },
          "metadata": {},
          "execution_count": 4
        }
      ]
    },
    {
      "cell_type": "code",
      "source": [
        "# choose predictors and dependent variable\n",
        "\n",
        "X = df.drop([\"qnt_death_heat_cold_exposure\", \"country\", \"temp_diff\"], axis = 1).to_numpy()\n",
        "y = df[\"qnt_death_heat_cold_exposure\"].to_numpy()"
      ],
      "metadata": {
        "id": "hhAHrUhZGYJV"
      },
      "execution_count": 5,
      "outputs": []
    },
    {
      "cell_type": "code",
      "source": [
        "# split dataset\n",
        "\n",
        "from sklearn.model_selection import train_test_split\n",
        "\n",
        "X_train, X_test, y_train, y_test = train_test_split(X, y, test_size = 0.20, random_state = 13)"
      ],
      "metadata": {
        "id": "WdOfHY0EGo7l"
      },
      "execution_count": 6,
      "outputs": []
    },
    {
      "cell_type": "code",
      "source": [
        "# function to inform the metrics\n",
        "\n",
        "from sklearn.metrics import r2_score, mean_squared_error\n",
        "\n",
        "def show_performance(pred, name):\n",
        "  R2 = r2_score(y_test, pred)\n",
        "  \n",
        "  n = X.shape[0]\n",
        "  p = X.shape[1]\n",
        "  \n",
        "  Adj_r2 = 1-(1-R2)*(n-1)/(n-p-1)\n",
        "  \n",
        "  rmse = mean_squared_error(y_test, pred, squared = False)\n",
        "  mse = mean_squared_error(y_test, pred, squared = True)  \n",
        "  \n",
        "  print(\"\")\n",
        "  print(\"Performance for model:\", name)\n",
        "  print(\"\")\n",
        "  print(\"R2:\", R2)\n",
        "  print(\"AdjR2:\", Adj_r2)\n",
        "  print(\"RMSE:\", rmse)\n",
        "  print(\"MSE:\", mse)\n",
        "  print(\"---------------------------\")\n"
      ],
      "metadata": {
        "id": "2FUXtMJxH1Dy"
      },
      "execution_count": 25,
      "outputs": []
    },
    {
      "cell_type": "code",
      "source": [
        "# functions to Pipeline and standardzation\n",
        "\n",
        "from sklearn.pipeline import Pipeline\n",
        "from sklearn.preprocessing import StandardScaler\n",
        "\n",
        "# tuning\n",
        "from sklearn.model_selection import GridSearchCV\n",
        "from sklearn.model_selection import RandomizedSearchCV\n",
        "\n",
        "# functions to visualization\n",
        "import seaborn as sns\n",
        "import matplotlib.pyplot as plt"
      ],
      "metadata": {
        "id": "YDPsdUVrIiu9"
      },
      "execution_count": 66,
      "outputs": []
    },
    {
      "cell_type": "markdown",
      "source": [
        "# Linear Regression"
      ],
      "metadata": {
        "id": "x4ZNBoG1HyxO"
      }
    },
    {
      "cell_type": "code",
      "source": [
        "from sklearn.linear_model import LinearRegression\n",
        "\n",
        "pipe_linear_regression = Pipeline([('scaler', StandardScaler()),     # Step 1\n",
        "                 ('model', LinearRegression())     # Step 2\n",
        "                 ])\n",
        "\n"
      ],
      "metadata": {
        "id": "5mv1El2HIZB-"
      },
      "execution_count": 10,
      "outputs": []
    },
    {
      "cell_type": "code",
      "source": [
        "# fitting and predicting\n",
        "pipe_linear_regression.fit(X_train, y_train)\n",
        "\n",
        "pred_linear_regression = pipe_linear_regression.predict(X_test)"
      ],
      "metadata": {
        "id": "3o4VcEUaI2Ze"
      },
      "execution_count": 12,
      "outputs": []
    },
    {
      "cell_type": "code",
      "source": [],
      "metadata": {
        "id": "g2dJmZ_iKKzg"
      },
      "execution_count": null,
      "outputs": []
    },
    {
      "cell_type": "markdown",
      "source": [
        "# Gaussian Regression"
      ],
      "metadata": {
        "id": "-LcaajHUKMN6"
      }
    },
    {
      "cell_type": "code",
      "source": [
        "from sklearn.gaussian_process import GaussianProcessRegressor\n",
        "\n",
        "pipe_gaussian_regression = Pipeline([('scaler', StandardScaler()),     # Step 1\n",
        "                 ('model', GaussianProcessRegressor())     # Step 2\n",
        "                 ])"
      ],
      "metadata": {
        "id": "dNvM6Ys8KaD1"
      },
      "execution_count": 16,
      "outputs": []
    },
    {
      "cell_type": "code",
      "source": [
        "pipe_gaussian_regression.fit(X_train, y_train);"
      ],
      "metadata": {
        "id": "9sgkYkirKgTG"
      },
      "execution_count": 18,
      "outputs": []
    },
    {
      "cell_type": "code",
      "source": [
        "pred_gaussian_regression = pipe_gaussian_regression.predict(X_test);"
      ],
      "metadata": {
        "id": "i7-QvQPCKkKd"
      },
      "execution_count": 20,
      "outputs": []
    },
    {
      "cell_type": "markdown",
      "source": [
        "# Decision Tree"
      ],
      "metadata": {
        "id": "ZGeQq3A8LTT5"
      }
    },
    {
      "cell_type": "code",
      "source": [
        "# import the regressor\n",
        "from sklearn.tree import DecisionTreeRegressor \n",
        "\n",
        "pipe_decision_tree = Pipeline([('scaler', StandardScaler()),     # Step 1\n",
        "                 ('model', DecisionTreeRegressor(random_state = 2))     # Step 2\n",
        "                 ])"
      ],
      "metadata": {
        "id": "K94LIExjLwEB"
      },
      "execution_count": 27,
      "outputs": []
    },
    {
      "cell_type": "code",
      "source": [
        "pipe_decision_tree.fit(X_train, y_train);"
      ],
      "metadata": {
        "id": "FNUa8fVLPXy_"
      },
      "execution_count": 29,
      "outputs": []
    },
    {
      "cell_type": "code",
      "source": [
        "pred_decision_tree = pipe_decision_tree.predict(X_test)"
      ],
      "metadata": {
        "id": "yaukM-wDR77m"
      },
      "execution_count": 30,
      "outputs": []
    },
    {
      "cell_type": "code",
      "source": [
        "sns.distplot(y_test-pred_decision_tree);"
      ],
      "metadata": {
        "colab": {
          "base_uri": "https://localhost:8080/",
          "height": 319
        },
        "id": "1Zpj21gRN1u9",
        "outputId": "320cce87-c37d-4cc4-aca4-c7a72888011e"
      },
      "execution_count": 40,
      "outputs": [
        {
          "output_type": "stream",
          "name": "stderr",
          "text": [
            "/usr/local/lib/python3.7/dist-packages/seaborn/distributions.py:2619: FutureWarning: `distplot` is a deprecated function and will be removed in a future version. Please adapt your code to use either `displot` (a figure-level function with similar flexibility) or `histplot` (an axes-level function for histograms).\n",
            "  warnings.warn(msg, FutureWarning)\n"
          ]
        },
        {
          "output_type": "display_data",
          "data": {
            "text/plain": [
              "<Figure size 432x288 with 1 Axes>"
            ],
            "image/png": "[encoded data removed]"
          },
          "metadata": {
            "needs_background": "light"
          }
        }
      ]
    },
    {
      "cell_type": "code",
      "source": [
        "plt.scatter(y_test,pred_decision_tree);"
      ],
      "metadata": {
        "colab": {
          "base_uri": "https://localhost:8080/",
          "height": 265
        },
        "id": "9juF9HY2OKuy",
        "outputId": "54144aa0-a12b-4e61-e3f3-5df5075f0ae2"
      },
      "execution_count": 39,
      "outputs": [
        {
          "output_type": "display_data",
          "data": {
            "text/plain": [
              "<Figure size 432x288 with 1 Axes>"
            ],
            "image/png": "[encoded data removed]"
          },
          "metadata": {
            "needs_background": "light"
          }
        }
      ]
    },
    {
      "cell_type": "code",
      "source": [
        "# https://www.nbshare.io/notebook/312837011/Decision-Tree-Regression-With-Hyper-Parameter-Tuning-In-Python/\n",
        "# Hyper parameters range intialization for tuning \n",
        "\n",
        "parameters={\"model__splitter\":[\"best\",\"random\"],\n",
        "            \"model__max_depth\" : [1,3,5,7,9,11,12],\n",
        "           \"model__min_samples_leaf\":[1,2,3,4,5,6,7,8,9,10],\n",
        "           \"model__min_weight_fraction_leaf\":[0.1,0.2,0.3,0.4,0.5,0.6,0.7,0.8,0.9],\n",
        "           \"model__max_features\":[\"auto\",\"log2\",\"sqrt\",None],\n",
        "           \"model__max_leaf_nodes\":[None,10,20,30,40,50,60,70,80,90] }\n",
        "\n",
        "tuning_model_decision_tree = GridSearchCV(pipe_decision_tree,param_grid=parameters,scoring='neg_mean_squared_error',cv=3,verbose=3)"
      ],
      "metadata": {
        "id": "AZnyRoc9OeI9"
      },
      "execution_count": 44,
      "outputs": []
    },
    {
      "cell_type": "code",
      "source": [
        "#tuning_model_decision_tree.fit(X,y)"
      ],
      "metadata": {
        "id": "eeOxDYs_O-hv"
      },
      "execution_count": null,
      "outputs": []
    },
    {
      "cell_type": "code",
      "source": [
        "# tuning_model_decision_tree.best_params_\n",
        "\n",
        "decision_tree_best_param = {'model__max_depth': 1,\n",
        " 'model__max_features': 'auto',\n",
        " 'model__max_leaf_nodes': None,\n",
        " 'model__min_samples_leaf': 1,\n",
        " 'model__min_weight_fraction_leaf': 0.4,\n",
        " 'model__splitter': 'random'}\n"
      ],
      "metadata": {
        "id": "HjTYcrLmSHgr"
      },
      "execution_count": 50,
      "outputs": []
    },
    {
      "cell_type": "code",
      "source": [
        "# tunning again\n",
        "\n",
        "pipe_decision_tree_tunned = Pipeline([('scaler', StandardScaler()),     # Step 1\n",
        "                 ('model', DecisionTreeRegressor(max_depth=1, \n",
        "                                                 max_features= \"auto\",\n",
        "                                                 max_leaf_nodes= None,\n",
        "                                                 min_samples_leaf= 1,\n",
        "                                                 min_weight_fraction_leaf = 0.4,\n",
        "                                                 splitter = \"random\"))     # Step 2\n",
        "                 ])\n",
        "\n",
        "\n",
        "pipe_decision_tree_tunned.fit(X_train, y_train)\n",
        "\n",
        "pred_decision_tree_tunned = pipe_decision_tree_tunned.predict(X_test)"
      ],
      "metadata": {
        "id": "Y2V07tQlSfei"
      },
      "execution_count": 53,
      "outputs": []
    },
    {
      "cell_type": "markdown",
      "source": [
        "# Gradient Boost"
      ],
      "metadata": {
        "id": "m8VsLpgNUIsn"
      }
    },
    {
      "cell_type": "code",
      "source": [
        "from sklearn.inspection import permutation_importance\n",
        "from sklearn.metrics import mean_squared_error\n",
        "from sklearn.model_selection import train_test_split\n",
        "from sklearn.ensemble import GradientBoostingRegressor"
      ],
      "metadata": {
        "id": "t1XYh3BNVO8f"
      },
      "execution_count": 55,
      "outputs": []
    },
    {
      "cell_type": "code",
      "source": [
        "params = {\n",
        "    \"n_estimators\": 500,\n",
        "    \"max_depth\": 4,\n",
        "    \"min_samples_split\": 5,\n",
        "    \"learning_rate\": 0.1,\n",
        "    \"loss\": \"squared_error\",\n",
        "}\n",
        "\n",
        "\n",
        "pipe_gradient_boost = Pipeline([('scaler', StandardScaler()),     # Step 1\n",
        "                 ('model', GradientBoostingRegressor(**params))     # Step 2\n",
        "                 ])\n",
        "\n",
        "\n",
        "pipe_gradient_boost.fit(X_train, y_train);"
      ],
      "metadata": {
        "id": "dnyaTBq3VSLn"
      },
      "execution_count": 62,
      "outputs": []
    },
    {
      "cell_type": "code",
      "source": [
        "pred_gradient_boost = pipe_gradient_boost.predict(X_test)"
      ],
      "metadata": {
        "id": "VDvgMnzLWCGy"
      },
      "execution_count": 63,
      "outputs": []
    },
    {
      "cell_type": "code",
      "source": [
        "# https://inria.github.io/scikit-learn-mooc/python_scripts/ensemble_hyperparameters.html\n",
        "\n",
        "from scipy.stats import loguniform\n",
        "\n",
        "param_distributions = {\n",
        "    \"model__n_estimators\": [1, 2, 5, 10, 20, 50, 100, 200, 500],\n",
        "    \"model__max_leaf_nodes\": [2, 5, 10, 20, 50, 100],\n",
        "    \"model__learning_rate\": loguniform(0.01, 1),\n",
        "    \"model__loss\": [\"squared_error\", \"absolute_error\", \"huber\", \"quantile\"]\n",
        "}\n",
        "\n",
        "gradient_boost_search_cv = RandomizedSearchCV(\n",
        "    pipe_gradient_boost, param_distributions=param_distributions,\n",
        "    scoring=\"neg_mean_absolute_error\", n_iter=20, random_state=0, n_jobs=-1\n",
        ")"
      ],
      "metadata": {
        "id": "gvT_Akj6YW8r"
      },
      "execution_count": 81,
      "outputs": []
    },
    {
      "cell_type": "code",
      "source": [
        "gradient_boost_search_cv.fit(X_train, y_train);"
      ],
      "metadata": {
        "id": "KHxn0SZYY7ja"
      },
      "execution_count": 82,
      "outputs": []
    },
    {
      "cell_type": "code",
      "source": [
        "columns = [f\"param_{name}\" for name in param_distributions.keys()]\n",
        "columns += [\"mean_test_error\", \"std_test_error\"]\n",
        "cv_results = pd.DataFrame(gradient_boost_search_cv.cv_results_)\n",
        "cv_results[\"mean_test_error\"] = -cv_results[\"mean_test_score\"]\n",
        "cv_results[\"std_test_error\"] = cv_results[\"std_test_score\"]\n",
        "cv_results[columns].sort_values(by=\"mean_test_error\")"
      ],
      "metadata": {
        "colab": {
          "base_uri": "https://localhost:8080/",
          "height": 669
        },
        "id": "pnQp2Fd5ZP0U",
        "outputId": "76f87b60-3e96-4d4a-f792-cbb9610fcdba"
      },
      "execution_count": 83,
      "outputs": [
        {
          "output_type": "execute_result",
          "data": {
            "text/plain": [
              "   param_model__n_estimators param_model__max_leaf_nodes  \\\n",
              "18                       200                          20   \n",
              "12                       500                           5   \n",
              "17                       500                          50   \n",
              "16                        20                          50   \n",
              "6                         10                           5   \n",
              "2                        500                           2   \n",
              "15                        20                          50   \n",
              "9                          5                          20   \n",
              "4                         20                           2   \n",
              "0                         10                           2   \n",
              "11                        20                           2   \n",
              "19                         1                         100   \n",
              "10                         1                           2   \n",
              "3                          2                           2   \n",
              "1                         10                           5   \n",
              "13                        10                           5   \n",
              "14                         1                          10   \n",
              "8                         20                           2   \n",
              "7                          2                           2   \n",
              "5                          1                         100   \n",
              "\n",
              "   param_model__learning_rate param_model__loss  mean_test_error  \\\n",
              "18                   0.067412     squared_error        37.376012   \n",
              "12                    0.05929     squared_error        38.305231   \n",
              "17                   0.021019     squared_error        38.361478   \n",
              "16                   0.185587             huber        48.910369   \n",
              "6                    0.906226     squared_error        52.732453   \n",
              "2                    0.195789     squared_error       107.709490   \n",
              "15                   0.042742    absolute_error       126.340132   \n",
              "9                    0.088553             huber       133.389694   \n",
              "4                    0.709894    absolute_error       134.000857   \n",
              "0                    0.125207    absolute_error       147.382386   \n",
              "11                   0.044492    absolute_error       150.110720   \n",
              "19                   0.047426    absolute_error       159.220158   \n",
              "10                   0.081715             huber       159.694792   \n",
              "3                      0.0351    absolute_error       160.707168   \n",
              "1                    0.519866          quantile       179.198079   \n",
              "13                   0.637819          quantile       185.183418   \n",
              "14                   0.202432          quantile       301.763722   \n",
              "8                    0.019351          quantile       311.152058   \n",
              "7                    0.109889          quantile       323.393658   \n",
              "5                    0.010976          quantile       330.296149   \n",
              "\n",
              "    std_test_error  \n",
              "18        4.979659  \n",
              "12        4.746607  \n",
              "17        5.272614  \n",
              "16       10.229677  \n",
              "6         8.705419  \n",
              "2        15.134799  \n",
              "15       21.197626  \n",
              "9        22.585779  \n",
              "4        19.803359  \n",
              "0        21.529482  \n",
              "11       21.305679  \n",
              "19       22.752042  \n",
              "10       22.592282  \n",
              "3        22.720129  \n",
              "1        45.169361  \n",
              "13       49.230390  \n",
              "14       14.887485  \n",
              "8        21.149437  \n",
              "7        20.611726  \n",
              "5        21.577615  "
            ],
            "text/html": [
              "\n",
              "  <div id=\"df-6af4cdd0-79e9-44f6-883c-667ff4309ce0\">\n",
              "    <div class=\"colab-df-container\">\n",
              "      <div>\n",
              "<style scoped>\n",
              "    .dataframe tbody tr th:only-of-type {\n",
              "        vertical-align: middle;\n",
              "    }\n",
              "\n",
              "    .dataframe tbody tr th {\n",
              "        vertical-align: top;\n",
              "    }\n",
              "\n",
              "    .dataframe thead th {\n",
              "        text-align: right;\n",
              "    }\n",
              "</style>\n",
              "<table border=\"1\" class=\"dataframe\">\n",
              "  <thead>\n",
              "    <tr style=\"text-align: right;\">\n",
              "      <th></th>\n",
              "      <th>param_model__n_estimators</th>\n",
              "      <th>param_model__max_leaf_nodes</th>\n",
              "      <th>param_model__learning_rate</th>\n",
              "      <th>param_model__loss</th>\n",
              "      <th>mean_test_error</th>\n",
              "      <th>std_test_error</th>\n",
              "    </tr>\n",
              "  </thead>\n",
              "  <tbody>\n",
              "    <tr>\n",
              "      <th>18</th>\n",
              "      <td>200</td>\n",
              "      <td>20</td>\n",
              "      <td>0.067412</td>\n",
              "      <td>squared_error</td>\n",
              "      <td>37.376012</td>\n",
              "      <td>4.979659</td>\n",
              "    </tr>\n",
              "    <tr>\n",
              "      <th>12</th>\n",
              "      <td>500</td>\n",
              "      <td>5</td>\n",
              "      <td>0.05929</td>\n",
              "      <td>squared_error</td>\n",
              "      <td>38.305231</td>\n",
              "      <td>4.746607</td>\n",
              "    </tr>\n",
              "    <tr>\n",
              "      <th>17</th>\n",
              "      <td>500</td>\n",
              "      <td>50</td>\n",
              "      <td>0.021019</td>\n",
              "      <td>squared_error</td>\n",
              "      <td>38.361478</td>\n",
              "      <td>5.272614</td>\n",
              "    </tr>\n",
              "    <tr>\n",
              "      <th>16</th>\n",
              "      <td>20</td>\n",
              "      <td>50</td>\n",
              "      <td>0.185587</td>\n",
              "      <td>huber</td>\n",
              "      <td>48.910369</td>\n",
              "      <td>10.229677</td>\n",
              "    </tr>\n",
              "    <tr>\n",
              "      <th>6</th>\n",
              "      <td>10</td>\n",
              "      <td>5</td>\n",
              "      <td>0.906226</td>\n",
              "      <td>squared_error</td>\n",
              "      <td>52.732453</td>\n",
              "      <td>8.705419</td>\n",
              "    </tr>\n",
              "    <tr>\n",
              "      <th>2</th>\n",
              "      <td>500</td>\n",
              "      <td>2</td>\n",
              "      <td>0.195789</td>\n",
              "      <td>squared_error</td>\n",
              "      <td>107.709490</td>\n",
              "      <td>15.134799</td>\n",
              "    </tr>\n",
              "    <tr>\n",
              "      <th>15</th>\n",
              "      <td>20</td>\n",
              "      <td>50</td>\n",
              "      <td>0.042742</td>\n",
              "      <td>absolute_error</td>\n",
              "      <td>126.340132</td>\n",
              "      <td>21.197626</td>\n",
              "    </tr>\n",
              "    <tr>\n",
              "      <th>9</th>\n",
              "      <td>5</td>\n",
              "      <td>20</td>\n",
              "      <td>0.088553</td>\n",
              "      <td>huber</td>\n",
              "      <td>133.389694</td>\n",
              "      <td>22.585779</td>\n",
              "    </tr>\n",
              "    <tr>\n",
              "      <th>4</th>\n",
              "      <td>20</td>\n",
              "      <td>2</td>\n",
              "      <td>0.709894</td>\n",
              "      <td>absolute_error</td>\n",
              "      <td>134.000857</td>\n",
              "      <td>19.803359</td>\n",
              "    </tr>\n",
              "    <tr>\n",
              "      <th>0</th>\n",
              "      <td>10</td>\n",
              "      <td>2</td>\n",
              "      <td>0.125207</td>\n",
              "      <td>absolute_error</td>\n",
              "      <td>147.382386</td>\n",
              "      <td>21.529482</td>\n",
              "    </tr>\n",
              "    <tr>\n",
              "      <th>11</th>\n",
              "      <td>20</td>\n",
              "      <td>2</td>\n",
              "      <td>0.044492</td>\n",
              "      <td>absolute_error</td>\n",
              "      <td>150.110720</td>\n",
              "      <td>21.305679</td>\n",
              "    </tr>\n",
              "    <tr>\n",
              "      <th>19</th>\n",
              "      <td>1</td>\n",
              "      <td>100</td>\n",
              "      <td>0.047426</td>\n",
              "      <td>absolute_error</td>\n",
              "      <td>159.220158</td>\n",
              "      <td>22.752042</td>\n",
              "    </tr>\n",
              "    <tr>\n",
              "      <th>10</th>\n",
              "      <td>1</td>\n",
              "      <td>2</td>\n",
              "      <td>0.081715</td>\n",
              "      <td>huber</td>\n",
              "      <td>159.694792</td>\n",
              "      <td>22.592282</td>\n",
              "    </tr>\n",
              "    <tr>\n",
              "      <th>3</th>\n",
              "      <td>2</td>\n",
              "      <td>2</td>\n",
              "      <td>0.0351</td>\n",
              "      <td>absolute_error</td>\n",
              "      <td>160.707168</td>\n",
              "      <td>22.720129</td>\n",
              "    </tr>\n",
              "    <tr>\n",
              "      <th>1</th>\n",
              "      <td>10</td>\n",
              "      <td>5</td>\n",
              "      <td>0.519866</td>\n",
              "      <td>quantile</td>\n",
              "      <td>179.198079</td>\n",
              "      <td>45.169361</td>\n",
              "    </tr>\n",
              "    <tr>\n",
              "      <th>13</th>\n",
              "      <td>10</td>\n",
              "      <td>5</td>\n",
              "      <td>0.637819</td>\n",
              "      <td>quantile</td>\n",
              "      <td>185.183418</td>\n",
              "      <td>49.230390</td>\n",
              "    </tr>\n",
              "    <tr>\n",
              "      <th>14</th>\n",
              "      <td>1</td>\n",
              "      <td>10</td>\n",
              "      <td>0.202432</td>\n",
              "      <td>quantile</td>\n",
              "      <td>301.763722</td>\n",
              "      <td>14.887485</td>\n",
              "    </tr>\n",
              "    <tr>\n",
              "      <th>8</th>\n",
              "      <td>20</td>\n",
              "      <td>2</td>\n",
              "      <td>0.019351</td>\n",
              "      <td>quantile</td>\n",
              "      <td>311.152058</td>\n",
              "      <td>21.149437</td>\n",
              "    </tr>\n",
              "    <tr>\n",
              "      <th>7</th>\n",
              "      <td>2</td>\n",
              "      <td>2</td>\n",
              "      <td>0.109889</td>\n",
              "      <td>quantile</td>\n",
              "      <td>323.393658</td>\n",
              "      <td>20.611726</td>\n",
              "    </tr>\n",
              "    <tr>\n",
              "      <th>5</th>\n",
              "      <td>1</td>\n",
              "      <td>100</td>\n",
              "      <td>0.010976</td>\n",
              "      <td>quantile</td>\n",
              "      <td>330.296149</td>\n",
              "      <td>21.577615</td>\n",
              "    </tr>\n",
              "  </tbody>\n",
              "</table>\n",
              "</div>\n",
              "      <button class=\"colab-df-convert\" onclick=\"convertToInteractive('df-6af4cdd0-79e9-44f6-883c-667ff4309ce0')\"\n",
              "              title=\"Convert this dataframe to an interactive table.\"\n",
              "              style=\"display:none;\">\n",
              "        \n",
              "  <svg xmlns=\"http://www.w3.org/2000/svg\" height=\"24px\"viewBox=\"0 0 24 24\"\n",
              "       width=\"24px\">\n",
              "    <path d=\"M0 0h24v24H0V0z\" fill=\"none\"/>\n",
              "    <path d=\"M18.56 5.44l.94 2.06.94-2.06 2.06-.94-2.06-.94-.94-2.06-.94 2.06-2.06.94zm-11 1L8.5 8.5l.94-2.06 2.06-.94-2.06-.94L8.5 2.5l-.94 2.06-2.06.94zm10 10l.94 2.06.94-2.06 2.06-.94-2.06-.94-.94-2.06-.94 2.06-2.06.94z\"/><path d=\"M17.41 7.96l-1.37-1.37c-.4-.4-.92-.59-1.43-.59-.52 0-1.04.2-1.43.59L10.3 9.45l-7.72 7.72c-.78.78-.78 2.05 0 2.83L4 21.41c.39.39.9.59 1.41.59.51 0 1.02-.2 1.41-.59l7.78-7.78 2.81-2.81c.8-.78.8-2.07 0-2.86zM5.41 20L4 18.59l7.72-7.72 1.47 1.35L5.41 20z\"/>\n",
              "  </svg>\n",
              "      </button>\n",
              "      \n",
              "  <style>\n",
              "    .colab-df-container {\n",
              "      display:flex;\n",
              "      flex-wrap:wrap;\n",
              "      gap: 12px;\n",
              "    }\n",
              "\n",
              "    .colab-df-convert {\n",
              "      background-color: #E8F0FE;\n",
              "      border: none;\n",
              "      border-radius: 50%;\n",
              "      cursor: pointer;\n",
              "      display: none;\n",
              "      fill: #1967D2;\n",
              "      height: 32px;\n",
              "      padding: 0 0 0 0;\n",
              "      width: 32px;\n",
              "    }\n",
              "\n",
              "    .colab-df-convert:hover {\n",
              "      background-color: #E2EBFA;\n",
              "      box-shadow: 0px 1px 2px rgba(60, 64, 67, 0.3), 0px 1px 3px 1px rgba(60, 64, 67, 0.15);\n",
              "      fill: #174EA6;\n",
              "    }\n",
              "\n",
              "    [theme=dark] .colab-df-convert {\n",
              "      background-color: #3B4455;\n",
              "      fill: #D2E3FC;\n",
              "    }\n",
              "\n",
              "    [theme=dark] .colab-df-convert:hover {\n",
              "      background-color: #434B5C;\n",
              "      box-shadow: 0px 1px 3px 1px rgba(0, 0, 0, 0.15);\n",
              "      filter: drop-shadow(0px 1px 2px rgba(0, 0, 0, 0.3));\n",
              "      fill: #FFFFFF;\n",
              "    }\n",
              "  </style>\n",
              "\n",
              "      <script>\n",
              "        const buttonEl =\n",
              "          document.querySelector('#df-6af4cdd0-79e9-44f6-883c-667ff4309ce0 button.colab-df-convert');\n",
              "        buttonEl.style.display =\n",
              "          google.colab.kernel.accessAllowed ? 'block' : 'none';\n",
              "\n",
              "        async function convertToInteractive(key) {\n",
              "          const element = document.querySelector('#df-6af4cdd0-79e9-44f6-883c-667ff4309ce0');\n",
              "          const dataTable =\n",
              "            await google.colab.kernel.invokeFunction('convertToInteractive',\n",
              "                                                     [key], {});\n",
              "          if (!dataTable) return;\n",
              "\n",
              "          const docLinkHtml = 'Like what you see? Visit the ' +\n",
              "            '<a target=\"_blank\" href=https://colab.research.google.com/notebooks/data_table.ipynb>data table notebook</a>'\n",
              "            + ' to learn more about interactive tables.';\n",
              "          element.innerHTML = '';\n",
              "          dataTable['output_type'] = 'display_data';\n",
              "          await google.colab.output.renderOutput(dataTable, element);\n",
              "          const docLink = document.createElement('div');\n",
              "          docLink.innerHTML = docLinkHtml;\n",
              "          element.appendChild(docLink);\n",
              "        }\n",
              "      </script>\n",
              "    </div>\n",
              "  </div>\n",
              "  "
            ]
          },
          "metadata": {},
          "execution_count": 83
        }
      ]
    },
    {
      "cell_type": "code",
      "source": [
        "param_distributions = {\n",
        "    \"n_estimators\": 200,\n",
        "    \"max_leaf_nodes\": 20,\n",
        "    \"learning_rate\": 0.067412,\n",
        "    \"loss\": \"squared_error\"\n",
        "}\n",
        "\n",
        "pipe_gradient_boost_tunned = Pipeline([('scaler', StandardScaler()),     # Step 1\n",
        "                 ('model', GradientBoostingRegressor(**param_distributions))     # Step 2\n",
        "                 ])\n",
        "\n",
        "\n",
        "pipe_gradient_boost_tunned.fit(X_train, y_train);"
      ],
      "metadata": {
        "id": "VGMkpTz4Zfoy"
      },
      "execution_count": 87,
      "outputs": []
    },
    {
      "cell_type": "code",
      "source": [
        "pred_gradient_boost_tunned = pipe_gradient_boost_tunned.predict(X_test);"
      ],
      "metadata": {
        "id": "RlZgyOX6bPXY"
      },
      "execution_count": 88,
      "outputs": []
    },
    {
      "cell_type": "markdown",
      "source": [
        "# XGBoost"
      ],
      "metadata": {
        "id": "M8rH4v_obiQl"
      }
    },
    {
      "cell_type": "code",
      "source": [],
      "metadata": {
        "id": "_cBzvGqWbwzI"
      },
      "execution_count": null,
      "outputs": []
    },
    {
      "cell_type": "markdown",
      "source": [
        "# Compare performance"
      ],
      "metadata": {
        "id": "vyd7zRXeKySM"
      }
    },
    {
      "cell_type": "code",
      "source": [
        "show_performance(pred_linear_regression, \"Linear Regression\")\n",
        "show_performance(pred_gaussian_regression, \"Gaussian Regression\")\n",
        "show_performance(pred_decision_tree, \"Decision Tree\")\n",
        "show_performance(pred_decision_tree_tunned, \"Decision Tree - Tunned\")\n",
        "show_performance(pred_gradient_boost, \"Gradient Boost\")\n",
        "show_performance(pred_gradient_boost_tunned, \"Gradient Boost - Tunned\")"
      ],
      "metadata": {
        "colab": {
          "base_uri": "https://localhost:8080/"
        },
        "id": "b543l0vLLFBm",
        "outputId": "36d57e56-bdd3-4e19-d0d3-38d0f6716f51"
      },
      "execution_count": 89,
      "outputs": [
        {
          "output_type": "stream",
          "name": "stdout",
          "text": [
            "\n",
            "Performance for model: Linear Regression\n",
            "\n",
            "R2: 0.18078792379719022\n",
            "AdjR2: 0.1792708643968146\n",
            "RMSE: 600.5722095023242\n",
            "MSE: 360686.97882650356\n",
            "---------------------------\n",
            "\n",
            "Performance for model: Gaussian Regression\n",
            "\n",
            "R2: 0.6547964564920182\n",
            "AdjR2: 0.6541571906707072\n",
            "RMSE: 389.8564122284776\n",
            "MSE: 151988.02215566067\n",
            "---------------------------\n",
            "\n",
            "Performance for model: Decision Tree\n",
            "\n",
            "R2: 0.952233056020925\n",
            "AdjR2: 0.9521445987172601\n",
            "RMSE: 145.0209640017608\n",
            "MSE: 21031.08\n",
            "---------------------------\n",
            "\n",
            "Performance for model: Decision Tree - Tunned\n",
            "\n",
            "R2: -0.003228879229658199\n",
            "AdjR2: -0.005086710487490986\n",
            "RMSE: 664.6103065660217\n",
            "MSE: 441706.85959378135\n",
            "---------------------------\n",
            "\n",
            "Performance for model: Gradient Boost\n",
            "\n",
            "R2: 0.9740144877084097\n",
            "AdjR2: 0.9739663663893512\n",
            "RMSE: 106.96278465683865\n",
            "MSE: 11441.037301545239\n",
            "---------------------------\n",
            "\n",
            "Performance for model: Gradient Boost - Tunned\n",
            "\n",
            "R2: 0.9695434740185921\n",
            "AdjR2: 0.9694870730445524\n",
            "RMSE: 115.79964853202802\n",
            "MSE: 13409.558600141218\n",
            "---------------------------\n"
          ]
        }
      ]
    }
  ]
}