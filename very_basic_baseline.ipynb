{
  "nbformat": 4,
  "nbformat_minor": 0,
  "metadata": {
    "colab": {
      "provenance": [],
      "collapsed_sections": [],
      "include_colab_link": true
    },
    "kernelspec": {
      "name": "python3",
      "display_name": "Python 3"
    },
    "language_info": {
      "name": "python"
    }
  },
  "cells": [
    {
      "cell_type": "markdown",
      "metadata": {
        "id": "view-in-github",
        "colab_type": "text"
      },
      "source": [
        "<a href=\"https://colab.research.google.com/github/rfdornelles/mds_ML_project/blob/main/very_basic_baseline.ipynb\" target=\"_parent\"><img src=\"https://colab.research.google.com/assets/colab-badge.svg\" alt=\"Open In Colab\"/></a>"
      ]
    },
    {
      "cell_type": "code",
      "execution_count": null,
      "metadata": {
        "id": "DY8ODgFqMLOh"
      },
      "outputs": [],
      "source": [
        "# are you guys here?\n"
      ]
    },
    {
      "cell_type": "code",
      "source": [
        "import pandas as pd\n",
        "\n",
        "\n",
        "df = pd.read_csv(\"/content/drive/MyDrive/ml_project_karon/karon_fake.csv\")"
      ],
      "metadata": {
        "id": "NF5CXTL2Mm3r"
      },
      "execution_count": 23,
      "outputs": []
    },
    {
      "cell_type": "code",
      "source": [
        "df.head()\n",
        "\n",
        "df.columns"
      ],
      "metadata": {
        "colab": {
          "base_uri": "https://localhost:8080/"
        },
        "id": "tNHjfEqDNmkT",
        "outputId": "d368e0e9-0b3f-4465-92c1-987d6e5a3186"
      },
      "execution_count": 24,
      "outputs": [
        {
          "output_type": "execute_result",
          "data": {
            "text/plain": [
              "Index(['year', 'population', 'glob', 'n_hem', 'x24n_90n',\n",
              "       'qnt_death_heat_cold_exposure',\n",
              "       'qnt_death_lower_respiratory_infections',\n",
              "       'qnt_death_exposure_to_forces_of_nature',\n",
              "       'qnt_death_chronic_respiratory_diseases', 'male_germans_age_0_25',\n",
              "       'male_germans_age_26_50', 'male_germans_age_51_75',\n",
              "       'male_germans_age_75_100', 'female_germans_age_0_25',\n",
              "       'female_germans_age_26_50', 'female_germans_age_51_75',\n",
              "       'female_germans_age_75_100', 'temp_rcp_45', 'CO2EQ', 'KYOTO-CO2EQ',\n",
              "       'CO2', 'CH4', 'N2O', 'FGASSUMHFC134AEQ', 'MHALOSUMCFC12EQ', 'CF4',\n",
              "       'C2F6', 'C6F14', 'HFC23', 'HFC32', 'HFC43_10', 'HFC125', 'HFC134a',\n",
              "       'HFC143a', 'HFC227ea', 'HFC245fa', 'SF6', 'CFC_11', 'CFC_12', 'CFC_113',\n",
              "       'CFC_114', 'CFC_115', 'CARB_TET', 'MCF', 'HCFC_22', 'HCFC_141B',\n",
              "       'HCFC_142B', 'HALON1211', 'HALON1202', 'HALON1301', 'HALON2402',\n",
              "       'CH3BR', 'CH3CL'],\n",
              "      dtype='object')"
            ]
          },
          "metadata": {},
          "execution_count": 24
        }
      ]
    },
    {
      "cell_type": "code",
      "source": [
        "X = df.drop([\"qnt_death_heat_cold_exposure\"], axis = 1)\n",
        "y = df[\"qnt_death_heat_cold_exposure\"]"
      ],
      "metadata": {
        "id": "iK8_vVOBN19c"
      },
      "execution_count": 25,
      "outputs": []
    },
    {
      "cell_type": "code",
      "source": [
        "from sklearn.model_selection import train_test_split\n",
        "\n",
        "# We need to set the name of the 4 objects that will be created\n",
        "# As arguments we add our X and our y, it will separate it into 4 \n",
        "# What are those 4 groups that we need? \n",
        "\n",
        "#X_train, X_test, y_train, y_test = train_test_split(X,y,test_size = 0.30)\n",
        "\n",
        "# We can move the size of the test size\n",
        "X_train, X_test, y_train, y_test = train_test_split(X,y,test_size = 0.25)"
      ],
      "metadata": {
        "id": "RGtpzG1oPjTz"
      },
      "execution_count": 26,
      "outputs": []
    },
    {
      "cell_type": "code",
      "source": [
        "# CROSS VALIDATION"
      ],
      "metadata": {
        "id": "KlrtCk1mPmGe"
      },
      "execution_count": null,
      "outputs": []
    },
    {
      "cell_type": "code",
      "source": [
        "# Let's build a simple classification pipeline. First import pipeline\n",
        "\n",
        "from sklearn.pipeline import Pipeline\n",
        "\n",
        "# Our data has different dimesions, so let's scale it. Import Scaler\n",
        "\n",
        "from sklearn.preprocessing import StandardScaler\n",
        "\n",
        "# Now let's chose our model \n",
        "\n",
        "from sklearn.linear_model import LinearRegression\n",
        "\n",
        "# Two step pipeline. First preprocess the data with the Standard Scaler,\n",
        "# then add the model, in this case a Logistic Regression \n",
        "\n",
        "pipe = Pipeline([('scaler', StandardScaler()),     # Step 1\n",
        "                 ('model', LinearRegression()) # Step 2\n",
        "                 ])"
      ],
      "metadata": {
        "id": "s2KNPjgaNiQT"
      },
      "execution_count": 27,
      "outputs": []
    },
    {
      "cell_type": "code",
      "source": [
        "pipe.fit(X_train, y_train)"
      ],
      "metadata": {
        "colab": {
          "base_uri": "https://localhost:8080/"
        },
        "id": "FNUa8fVLPXy_",
        "outputId": "96186fed-134f-4b44-d680-9794f88e2b40"
      },
      "execution_count": 28,
      "outputs": [
        {
          "output_type": "execute_result",
          "data": {
            "text/plain": [
              "Pipeline(steps=[('scaler', StandardScaler()), ('model', LinearRegression())])"
            ]
          },
          "metadata": {},
          "execution_count": 28
        }
      ]
    },
    {
      "cell_type": "code",
      "source": [
        "pred = pipe.predict(X_test)"
      ],
      "metadata": {
        "id": "yaukM-wDR77m"
      },
      "execution_count": 29,
      "outputs": []
    },
    {
      "cell_type": "code",
      "source": [
        "from sklearn.metrics import r2_score\n",
        "\n",
        "\n",
        "print(\"coef:\", pipe['model'].coef_)\n",
        "print(\"intercept:\", pipe['model'].intercept_)\n",
        "print(\"R2:\", r2_score(y_test, pred))"
      ],
      "metadata": {
        "colab": {
          "base_uri": "https://localhost:8080/"
        },
        "id": "o9QIc3WoTLgN",
        "outputId": "90ab811d-41e3-486d-d87c-1e61ae8ce9b1"
      },
      "execution_count": 42,
      "outputs": [
        {
          "output_type": "stream",
          "name": "stdout",
          "text": [
            "coef: [ -4419.40941086   8004.79851808 -29525.43985167  41076.48781308\n",
            "   2031.53108436   2193.041458     2519.07662205  42962.69213282\n",
            "   9220.09589884  21116.18349821  10291.06045283 -20790.98955932\n",
            " -20473.19050402 -39493.52139459  18040.19500089   4765.63065951\n",
            "  32193.21884659  -3503.95424204  -2079.9844002   -1815.68381095\n",
            "  -2466.20451688  -2151.831107    -4346.68006891  17596.32071372\n",
            "  -4597.35741657  -4822.43404264  -2829.49640418  -6225.38981755\n",
            "   1766.71471642 -10995.56603804  -4118.93645011  -3258.75909073\n",
            "  -6452.28770358 -13437.248729    -4494.69576684  -5585.1381912\n",
            "   7409.08796384  11725.36659763   7514.46136681   4691.37638309\n",
            "  11345.37562117   1659.23539881  -4670.28867426  -3445.59786122\n",
            "   3875.12342563   7372.07252432   5517.27805246   5720.28801055\n",
            "  -2235.02298728   5757.13086828  -1734.82047581  14809.68586848]\n",
            "intercept: 327832.31250011513\n",
            "R2: 0.9506968482719739\n"
          ]
        }
      ]
    }
  ]
}