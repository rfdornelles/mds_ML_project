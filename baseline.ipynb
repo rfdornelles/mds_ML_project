{
  "nbformat": 4,
  "nbformat_minor": 0,
  "metadata": {
    "colab": {
      "provenance": [],
      "collapsed_sections": [],
      "include_colab_link": true
    },
    "kernelspec": {
      "name": "python3",
      "display_name": "Python 3"
    },
    "language_info": {
      "name": "python"
    }
  },
  "cells": [
    {
      "cell_type": "markdown",
      "metadata": {
        "id": "view-in-github",
        "colab_type": "text"
      },
      "source": [
        "<a href=\"https://colab.research.google.com/github/rfdornelles/mds_ML_project/blob/main/baseline.ipynb\" target=\"_parent\"><img src=\"https://colab.research.google.com/assets/colab-badge.svg\" alt=\"Open In Colab\"/></a>"
      ]
    },
    {
      "cell_type": "code",
      "source": [
        "import pandas as pd\n",
        "from google.colab import drive\n",
        "drive.mount('/content/drive')\n",
        "\n",
        "df = pd.read_csv(\"/content/drive/MyDrive/ml_project_karon/karon_fake.csv\")"
      ],
      "metadata": {
        "id": "NF5CXTL2Mm3r",
        "outputId": "5b399116-7a41-4952-b598-9905470f7e32",
        "colab": {
          "base_uri": "https://localhost:8080/"
        }
      },
      "execution_count": 1,
      "outputs": [
        {
          "output_type": "stream",
          "name": "stdout",
          "text": [
            "Mounted at /content/drive\n"
          ]
        }
      ]
    },
    {
      "cell_type": "code",
      "source": [
        "df.head()\n",
        "\n",
        "df.columns"
      ],
      "metadata": {
        "colab": {
          "base_uri": "https://localhost:8080/"
        },
        "id": "tNHjfEqDNmkT",
        "outputId": "103c22b3-1340-48c1-d322-0f52cb6b4a9d"
      },
      "execution_count": 15,
      "outputs": [
        {
          "output_type": "execute_result",
          "data": {
            "text/plain": [
              "Index(['year', 'population', 'glob', 'n_hem', 'x24n_90n',\n",
              "       'qnt_death_heat_cold_exposure',\n",
              "       'qnt_death_lower_respiratory_infections',\n",
              "       'qnt_death_exposure_to_forces_of_nature',\n",
              "       'qnt_death_chronic_respiratory_diseases', 'male_germans_age_0_25',\n",
              "       'male_germans_age_26_50', 'male_germans_age_51_75',\n",
              "       'male_germans_age_75_100', 'female_germans_age_0_25',\n",
              "       'female_germans_age_26_50', 'female_germans_age_51_75',\n",
              "       'female_germans_age_75_100', 'temp_rcp_45', 'CO2EQ', 'KYOTO-CO2EQ',\n",
              "       'CO2', 'CH4', 'N2O', 'FGASSUMHFC134AEQ', 'MHALOSUMCFC12EQ', 'CF4',\n",
              "       'C2F6', 'C6F14', 'HFC23', 'HFC32', 'HFC43_10', 'HFC125', 'HFC134a',\n",
              "       'HFC143a', 'HFC227ea', 'HFC245fa', 'SF6', 'CFC_11', 'CFC_12', 'CFC_113',\n",
              "       'CFC_114', 'CFC_115', 'CARB_TET', 'MCF', 'HCFC_22', 'HCFC_141B',\n",
              "       'HCFC_142B', 'HALON1211', 'HALON1202', 'HALON1301', 'HALON2402',\n",
              "       'CH3BR', 'CH3CL'],\n",
              "      dtype='object')"
            ]
          },
          "metadata": {},
          "execution_count": 15
        }
      ]
    },
    {
      "cell_type": "code",
      "source": [
        "X = df.drop([\"qnt_death_heat_cold_exposure\"], axis = 1)\n",
        "y = df[\"qnt_death_heat_cold_exposure\"]"
      ],
      "metadata": {
        "id": "iK8_vVOBN19c"
      },
      "execution_count": 16,
      "outputs": []
    },
    {
      "cell_type": "code",
      "source": [
        "from sklearn.model_selection import train_test_split\n",
        "\n",
        "# We need to set the name of the 4 objects that will be created\n",
        "# As arguments we add our X and our y, it will separate it into 4 \n",
        "# What are those 4 groups that we need? \n",
        "\n",
        "#X_train, X_test, y_train, y_test = train_test_split(X,y,test_size = 0.30)\n",
        "\n",
        "# We can move the size of the test size\n",
        "X_train, X_test, y_train, y_test = train_test_split(X,y,test_size = 0.25)"
      ],
      "metadata": {
        "id": "RGtpzG1oPjTz"
      },
      "execution_count": 17,
      "outputs": []
    },
    {
      "cell_type": "code",
      "source": [
        "# Let's build a simple classification pipeline. First import pipeline\n",
        "\n",
        "from sklearn.pipeline import Pipeline\n",
        "\n",
        "# Our data has different dimesions, so let's scale it. Import Scaler\n",
        "\n",
        "from sklearn.preprocessing import StandardScaler\n",
        "\n",
        "# Now let's chose our model \n",
        "\n",
        "from sklearn.linear_model import LinearRegression\n",
        "\n",
        "# Two step pipeline. First preprocess the data with the Standard Scaler,\n",
        "# then add the model, in this case a Logistic Regression \n",
        "\n",
        "pipe = Pipeline([('scaler', StandardScaler()),     # Step 1\n",
        "                 ('model', LinearRegression())     # Step 2\n",
        "                 ])"
      ],
      "metadata": {
        "id": "s2KNPjgaNiQT"
      },
      "execution_count": 18,
      "outputs": []
    },
    {
      "cell_type": "code",
      "source": [
        "pipe.fit(X_train, y_train)"
      ],
      "metadata": {
        "colab": {
          "base_uri": "https://localhost:8080/"
        },
        "id": "FNUa8fVLPXy_",
        "outputId": "ebd2e430-bf51-49a7-d269-4ae437c7736e"
      },
      "execution_count": 19,
      "outputs": [
        {
          "output_type": "execute_result",
          "data": {
            "text/plain": [
              "Pipeline(steps=[('scaler', StandardScaler()), ('model', LinearRegression())])"
            ]
          },
          "metadata": {},
          "execution_count": 19
        }
      ]
    },
    {
      "cell_type": "code",
      "source": [
        "pred = pipe.predict(X_test)"
      ],
      "metadata": {
        "id": "yaukM-wDR77m"
      },
      "execution_count": 20,
      "outputs": []
    },
    {
      "cell_type": "code",
      "source": [
        "# CROSS VALIDATION\n",
        "\n",
        "from sklearn.model_selection import KFold\n",
        "from sklearn.model_selection import cross_val_score\n",
        "\n",
        "cv = KFold(n_splits = 3, random_state = 91, shuffle = True)\n",
        "\n",
        "scores = cross_val_score(pipe, X_train, y_train, cv = cv, n_jobs = -1)"
      ],
      "metadata": {
        "id": "KlrtCk1mPmGe"
      },
      "execution_count": 21,
      "outputs": []
    },
    {
      "cell_type": "code",
      "source": [
        "scores"
      ],
      "metadata": {
        "id": "aqzlCKgLtrKM",
        "outputId": "7f4ec942-80a8-491f-fec2-029d7e841a68",
        "colab": {
          "base_uri": "https://localhost:8080/"
        }
      },
      "execution_count": 22,
      "outputs": [
        {
          "output_type": "execute_result",
          "data": {
            "text/plain": [
              "array([0.89823434, 0.82938952, 0.91883808])"
            ]
          },
          "metadata": {},
          "execution_count": 22
        }
      ]
    },
    {
      "cell_type": "code",
      "source": [
        "from sklearn.metrics import r2_score\n",
        "\n",
        "\n",
        "print(\"coef:\", pipe['model'].coef_)\n",
        "print(\"intercept:\", pipe['model'].intercept_)\n",
        "print(\"R2:\", r2_score(y_test, pred))"
      ],
      "metadata": {
        "colab": {
          "base_uri": "https://localhost:8080/"
        },
        "id": "o9QIc3WoTLgN",
        "outputId": "c4d23187-1d1f-43cd-c0bf-514d43b84ba4"
      },
      "execution_count": 23,
      "outputs": [
        {
          "output_type": "stream",
          "name": "stdout",
          "text": [
            "coef: [ -3739.53512802  19228.34321648 -28847.68180755  37584.42887589\n",
            "   -637.23859824  13272.96626946  -3501.84152878  27312.52340369\n",
            "  -8207.63677514  21730.0428212   21060.21431122 -23087.94580232\n",
            "  -8816.23067531  14399.66984288  11233.1901314  -13541.97644949\n",
            "  26851.12853263   -617.50024415   4778.51795153   5215.03335165\n",
            "   5635.80721735   3559.72523192  -1301.82015068  25589.74689926\n",
            "  -4555.19206811  -5185.89946293   5305.43488069  -8557.93293822\n",
            "   4108.85339055 -12208.21072455    631.71693429  -1358.14396929\n",
            "  -3907.47918161 -15033.40919134   3707.10755059  -6810.31246683\n",
            "   8641.28218079  14479.78496798   8632.85837679   4788.04195354\n",
            "  11976.25050081  -3602.18753238  -8302.48758286  -1665.92219468\n",
            "  15033.65773205  24653.26581469    206.59787925   1662.32613311\n",
            "  -6959.48940723   6759.9916367   -3989.87925901  34277.76009787]\n",
            "intercept: 336752.0625000548\n",
            "R2: 0.9557231734971529\n"
          ]
        }
      ]
    }
  ]
}