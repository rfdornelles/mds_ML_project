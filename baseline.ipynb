{
  "nbformat": 4,
  "nbformat_minor": 0,
  "metadata": {
    "colab": {
      "provenance": [],
      "collapsed_sections": [],
      "include_colab_link": true
    },
    "kernelspec": {
      "name": "python3",
      "display_name": "Python 3"
    },
    "language_info": {
      "name": "python"
    }
  },
  "cells": [
    {
      "cell_type": "markdown",
      "metadata": {
        "id": "view-in-github",
        "colab_type": "text"
      },
      "source": [
        "<a href=\"https://colab.research.google.com/github/rfdornelles/mds_ML_project/blob/main/baseline.ipynb\" target=\"_parent\"><img src=\"https://colab.research.google.com/assets/colab-badge.svg\" alt=\"Open In Colab\"/></a>"
      ]
    },
    {
      "cell_type": "code",
      "source": [
        "import pandas as pd\n",
        "\n",
        "df = pd.read_csv(\"https://raw.githubusercontent.com/rfdornelles/mds_ML_project/main/data/karon_clean.csv\")"
      ],
      "metadata": {
        "id": "NF5CXTL2Mm3r"
      },
      "execution_count": 1,
      "outputs": []
    },
    {
      "cell_type": "code",
      "source": [
        "df.head()"
      ],
      "metadata": {
        "id": "sUwR6YZfzXE3",
        "outputId": "1ffc93f1-81d4-4c54-e68b-d8124a3afdab",
        "colab": {
          "base_uri": "https://localhost:8080/",
          "height": 297
        }
      },
      "execution_count": 2,
      "outputs": [
        {
          "output_type": "execute_result",
          "data": {
            "text/plain": [
              "   year  population  glob  n_hem  x24n_90n  qnt_death_heat_cold_exposure  \\\n",
              "0  1990    79433029  0.45   0.53      0.63                        324175   \n",
              "1  1991    80013896  0.40   0.41      0.47                        332814   \n",
              "2  1992    80624598  0.22   0.14      0.09                        352194   \n",
              "3  1993    81156363  0.23   0.19      0.13                        393281   \n",
              "4  1994    81438348  0.32   0.37      0.43                        425408   \n",
              "\n",
              "   qnt_death_lower_respiratory_infections  \\\n",
              "0                                18798537   \n",
              "1                                18595919   \n",
              "2                                18454252   \n",
              "3                                18277613   \n",
              "4                                18044634   \n",
              "\n",
              "   qnt_death_exposure_to_forces_of_nature  \\\n",
              "0                                  257062   \n",
              "1                                  789809   \n",
              "2                                   67936   \n",
              "3                                  122408   \n",
              "4                                   70991   \n",
              "\n",
              "   qnt_death_chronic_respiratory_diseases  temp_rcp_45  ...     MCF  HCFC_22  \\\n",
              "0                                18430814     8.808854  ...  124.45   84.305   \n",
              "1                                18764820     8.844929  ...  127.90   90.440   \n",
              "2                                19115256     8.900336  ...  130.90   96.715   \n",
              "3                                19467245     8.935067  ...  130.50  102.140   \n",
              "4                                19645020     8.959634  ...  126.00  106.600   \n",
              "\n",
              "   HCFC_141B  HCFC_142B  HALON1211  HALON1202  HALON1301  HALON2402   CH3BR  \\\n",
              "0     0.0000     1.2490     2.1645     0.0260     1.5620     0.3015  8.9880   \n",
              "1     0.0000     1.6960     2.4485     0.0280     1.7530     0.3260  9.0755   \n",
              "2     0.0000     2.4240     2.7125     0.0295     1.9125     0.3500  9.1655   \n",
              "3     0.0000     3.3945     2.9185     0.0310     2.0215     0.3725  9.2580   \n",
              "4     0.5695     4.4870     3.0900     0.0335     2.1140     0.3930  9.3530   \n",
              "\n",
              "    CH3CL  \n",
              "0  537.80  \n",
              "1  537.85  \n",
              "2  537.90  \n",
              "3  537.90  \n",
              "4  537.95  \n",
              "\n",
              "[5 rows x 45 columns]"
            ],
            "text/html": [
              "\n",
              "  <div id=\"df-e1c6a565-1a1e-4cca-a384-7f726ee427e6\">\n",
              "    <div class=\"colab-df-container\">\n",
              "      <div>\n",
              "<style scoped>\n",
              "    .dataframe tbody tr th:only-of-type {\n",
              "        vertical-align: middle;\n",
              "    }\n",
              "\n",
              "    .dataframe tbody tr th {\n",
              "        vertical-align: top;\n",
              "    }\n",
              "\n",
              "    .dataframe thead th {\n",
              "        text-align: right;\n",
              "    }\n",
              "</style>\n",
              "<table border=\"1\" class=\"dataframe\">\n",
              "  <thead>\n",
              "    <tr style=\"text-align: right;\">\n",
              "      <th></th>\n",
              "      <th>year</th>\n",
              "      <th>population</th>\n",
              "      <th>glob</th>\n",
              "      <th>n_hem</th>\n",
              "      <th>x24n_90n</th>\n",
              "      <th>qnt_death_heat_cold_exposure</th>\n",
              "      <th>qnt_death_lower_respiratory_infections</th>\n",
              "      <th>qnt_death_exposure_to_forces_of_nature</th>\n",
              "      <th>qnt_death_chronic_respiratory_diseases</th>\n",
              "      <th>temp_rcp_45</th>\n",
              "      <th>...</th>\n",
              "      <th>MCF</th>\n",
              "      <th>HCFC_22</th>\n",
              "      <th>HCFC_141B</th>\n",
              "      <th>HCFC_142B</th>\n",
              "      <th>HALON1211</th>\n",
              "      <th>HALON1202</th>\n",
              "      <th>HALON1301</th>\n",
              "      <th>HALON2402</th>\n",
              "      <th>CH3BR</th>\n",
              "      <th>CH3CL</th>\n",
              "    </tr>\n",
              "  </thead>\n",
              "  <tbody>\n",
              "    <tr>\n",
              "      <th>0</th>\n",
              "      <td>1990</td>\n",
              "      <td>79433029</td>\n",
              "      <td>0.45</td>\n",
              "      <td>0.53</td>\n",
              "      <td>0.63</td>\n",
              "      <td>324175</td>\n",
              "      <td>18798537</td>\n",
              "      <td>257062</td>\n",
              "      <td>18430814</td>\n",
              "      <td>8.808854</td>\n",
              "      <td>...</td>\n",
              "      <td>124.45</td>\n",
              "      <td>84.305</td>\n",
              "      <td>0.0000</td>\n",
              "      <td>1.2490</td>\n",
              "      <td>2.1645</td>\n",
              "      <td>0.0260</td>\n",
              "      <td>1.5620</td>\n",
              "      <td>0.3015</td>\n",
              "      <td>8.9880</td>\n",
              "      <td>537.80</td>\n",
              "    </tr>\n",
              "    <tr>\n",
              "      <th>1</th>\n",
              "      <td>1991</td>\n",
              "      <td>80013896</td>\n",
              "      <td>0.40</td>\n",
              "      <td>0.41</td>\n",
              "      <td>0.47</td>\n",
              "      <td>332814</td>\n",
              "      <td>18595919</td>\n",
              "      <td>789809</td>\n",
              "      <td>18764820</td>\n",
              "      <td>8.844929</td>\n",
              "      <td>...</td>\n",
              "      <td>127.90</td>\n",
              "      <td>90.440</td>\n",
              "      <td>0.0000</td>\n",
              "      <td>1.6960</td>\n",
              "      <td>2.4485</td>\n",
              "      <td>0.0280</td>\n",
              "      <td>1.7530</td>\n",
              "      <td>0.3260</td>\n",
              "      <td>9.0755</td>\n",
              "      <td>537.85</td>\n",
              "    </tr>\n",
              "    <tr>\n",
              "      <th>2</th>\n",
              "      <td>1992</td>\n",
              "      <td>80624598</td>\n",
              "      <td>0.22</td>\n",
              "      <td>0.14</td>\n",
              "      <td>0.09</td>\n",
              "      <td>352194</td>\n",
              "      <td>18454252</td>\n",
              "      <td>67936</td>\n",
              "      <td>19115256</td>\n",
              "      <td>8.900336</td>\n",
              "      <td>...</td>\n",
              "      <td>130.90</td>\n",
              "      <td>96.715</td>\n",
              "      <td>0.0000</td>\n",
              "      <td>2.4240</td>\n",
              "      <td>2.7125</td>\n",
              "      <td>0.0295</td>\n",
              "      <td>1.9125</td>\n",
              "      <td>0.3500</td>\n",
              "      <td>9.1655</td>\n",
              "      <td>537.90</td>\n",
              "    </tr>\n",
              "    <tr>\n",
              "      <th>3</th>\n",
              "      <td>1993</td>\n",
              "      <td>81156363</td>\n",
              "      <td>0.23</td>\n",
              "      <td>0.19</td>\n",
              "      <td>0.13</td>\n",
              "      <td>393281</td>\n",
              "      <td>18277613</td>\n",
              "      <td>122408</td>\n",
              "      <td>19467245</td>\n",
              "      <td>8.935067</td>\n",
              "      <td>...</td>\n",
              "      <td>130.50</td>\n",
              "      <td>102.140</td>\n",
              "      <td>0.0000</td>\n",
              "      <td>3.3945</td>\n",
              "      <td>2.9185</td>\n",
              "      <td>0.0310</td>\n",
              "      <td>2.0215</td>\n",
              "      <td>0.3725</td>\n",
              "      <td>9.2580</td>\n",
              "      <td>537.90</td>\n",
              "    </tr>\n",
              "    <tr>\n",
              "      <th>4</th>\n",
              "      <td>1994</td>\n",
              "      <td>81438348</td>\n",
              "      <td>0.32</td>\n",
              "      <td>0.37</td>\n",
              "      <td>0.43</td>\n",
              "      <td>425408</td>\n",
              "      <td>18044634</td>\n",
              "      <td>70991</td>\n",
              "      <td>19645020</td>\n",
              "      <td>8.959634</td>\n",
              "      <td>...</td>\n",
              "      <td>126.00</td>\n",
              "      <td>106.600</td>\n",
              "      <td>0.5695</td>\n",
              "      <td>4.4870</td>\n",
              "      <td>3.0900</td>\n",
              "      <td>0.0335</td>\n",
              "      <td>2.1140</td>\n",
              "      <td>0.3930</td>\n",
              "      <td>9.3530</td>\n",
              "      <td>537.95</td>\n",
              "    </tr>\n",
              "  </tbody>\n",
              "</table>\n",
              "<p>5 rows × 45 columns</p>\n",
              "</div>\n",
              "      <button class=\"colab-df-convert\" onclick=\"convertToInteractive('df-e1c6a565-1a1e-4cca-a384-7f726ee427e6')\"\n",
              "              title=\"Convert this dataframe to an interactive table.\"\n",
              "              style=\"display:none;\">\n",
              "        \n",
              "  <svg xmlns=\"http://www.w3.org/2000/svg\" height=\"24px\"viewBox=\"0 0 24 24\"\n",
              "       width=\"24px\">\n",
              "    <path d=\"M0 0h24v24H0V0z\" fill=\"none\"/>\n",
              "    <path d=\"M18.56 5.44l.94 2.06.94-2.06 2.06-.94-2.06-.94-.94-2.06-.94 2.06-2.06.94zm-11 1L8.5 8.5l.94-2.06 2.06-.94-2.06-.94L8.5 2.5l-.94 2.06-2.06.94zm10 10l.94 2.06.94-2.06 2.06-.94-2.06-.94-.94-2.06-.94 2.06-2.06.94z\"/><path d=\"M17.41 7.96l-1.37-1.37c-.4-.4-.92-.59-1.43-.59-.52 0-1.04.2-1.43.59L10.3 9.45l-7.72 7.72c-.78.78-.78 2.05 0 2.83L4 21.41c.39.39.9.59 1.41.59.51 0 1.02-.2 1.41-.59l7.78-7.78 2.81-2.81c.8-.78.8-2.07 0-2.86zM5.41 20L4 18.59l7.72-7.72 1.47 1.35L5.41 20z\"/>\n",
              "  </svg>\n",
              "      </button>\n",
              "      \n",
              "  <style>\n",
              "    .colab-df-container {\n",
              "      display:flex;\n",
              "      flex-wrap:wrap;\n",
              "      gap: 12px;\n",
              "    }\n",
              "\n",
              "    .colab-df-convert {\n",
              "      background-color: #E8F0FE;\n",
              "      border: none;\n",
              "      border-radius: 50%;\n",
              "      cursor: pointer;\n",
              "      display: none;\n",
              "      fill: #1967D2;\n",
              "      height: 32px;\n",
              "      padding: 0 0 0 0;\n",
              "      width: 32px;\n",
              "    }\n",
              "\n",
              "    .colab-df-convert:hover {\n",
              "      background-color: #E2EBFA;\n",
              "      box-shadow: 0px 1px 2px rgba(60, 64, 67, 0.3), 0px 1px 3px 1px rgba(60, 64, 67, 0.15);\n",
              "      fill: #174EA6;\n",
              "    }\n",
              "\n",
              "    [theme=dark] .colab-df-convert {\n",
              "      background-color: #3B4455;\n",
              "      fill: #D2E3FC;\n",
              "    }\n",
              "\n",
              "    [theme=dark] .colab-df-convert:hover {\n",
              "      background-color: #434B5C;\n",
              "      box-shadow: 0px 1px 3px 1px rgba(0, 0, 0, 0.15);\n",
              "      filter: drop-shadow(0px 1px 2px rgba(0, 0, 0, 0.3));\n",
              "      fill: #FFFFFF;\n",
              "    }\n",
              "  </style>\n",
              "\n",
              "      <script>\n",
              "        const buttonEl =\n",
              "          document.querySelector('#df-e1c6a565-1a1e-4cca-a384-7f726ee427e6 button.colab-df-convert');\n",
              "        buttonEl.style.display =\n",
              "          google.colab.kernel.accessAllowed ? 'block' : 'none';\n",
              "\n",
              "        async function convertToInteractive(key) {\n",
              "          const element = document.querySelector('#df-e1c6a565-1a1e-4cca-a384-7f726ee427e6');\n",
              "          const dataTable =\n",
              "            await google.colab.kernel.invokeFunction('convertToInteractive',\n",
              "                                                     [key], {});\n",
              "          if (!dataTable) return;\n",
              "\n",
              "          const docLinkHtml = 'Like what you see? Visit the ' +\n",
              "            '<a target=\"_blank\" href=https://colab.research.google.com/notebooks/data_table.ipynb>data table notebook</a>'\n",
              "            + ' to learn more about interactive tables.';\n",
              "          element.innerHTML = '';\n",
              "          dataTable['output_type'] = 'display_data';\n",
              "          await google.colab.output.renderOutput(dataTable, element);\n",
              "          const docLink = document.createElement('div');\n",
              "          docLink.innerHTML = docLinkHtml;\n",
              "          element.appendChild(docLink);\n",
              "        }\n",
              "      </script>\n",
              "    </div>\n",
              "  </div>\n",
              "  "
            ]
          },
          "metadata": {},
          "execution_count": 2
        }
      ]
    },
    {
      "cell_type": "code",
      "source": [
        "df.columns"
      ],
      "metadata": {
        "colab": {
          "base_uri": "https://localhost:8080/"
        },
        "id": "tNHjfEqDNmkT",
        "outputId": "4bcbf53d-0665-4cb3-9963-70d5566ecf40"
      },
      "execution_count": 3,
      "outputs": [
        {
          "output_type": "execute_result",
          "data": {
            "text/plain": [
              "Index(['year', 'population', 'glob', 'n_hem', 'x24n_90n',\n",
              "       'qnt_death_heat_cold_exposure',\n",
              "       'qnt_death_lower_respiratory_infections',\n",
              "       'qnt_death_exposure_to_forces_of_nature',\n",
              "       'qnt_death_chronic_respiratory_diseases', 'temp_rcp_45', 'CO2EQ',\n",
              "       'KYOTO-CO2EQ', 'CO2', 'CH4', 'N2O', 'FGASSUMHFC134AEQ',\n",
              "       'MHALOSUMCFC12EQ', 'CF4', 'C2F6', 'C6F14', 'HFC23', 'HFC32', 'HFC43_10',\n",
              "       'HFC125', 'HFC134a', 'HFC143a', 'HFC227ea', 'HFC245fa', 'SF6', 'CFC_11',\n",
              "       'CFC_12', 'CFC_113', 'CFC_114', 'CFC_115', 'CARB_TET', 'MCF', 'HCFC_22',\n",
              "       'HCFC_141B', 'HCFC_142B', 'HALON1211', 'HALON1202', 'HALON1301',\n",
              "       'HALON2402', 'CH3BR', 'CH3CL'],\n",
              "      dtype='object')"
            ]
          },
          "metadata": {},
          "execution_count": 3
        }
      ]
    },
    {
      "cell_type": "code",
      "source": [
        "X = df.drop([\"qnt_death_heat_cold_exposure\", \"year\"], axis = 1)\n",
        "y = df[\"qnt_death_heat_cold_exposure\"]"
      ],
      "metadata": {
        "id": "iK8_vVOBN19c"
      },
      "execution_count": 4,
      "outputs": []
    },
    {
      "cell_type": "code",
      "source": [
        "from sklearn.model_selection import train_test_split\n",
        "\n",
        "# We need to set the name of the 4 objects that will be created\n",
        "# As arguments we add our X and our y, it will separate it into 4 \n",
        "# What are those 4 groups that we need? \n",
        "\n",
        "#X_train, X_test, y_train, y_test = train_test_split(X,y,test_size = 0.30)\n",
        "\n",
        "# We can move the size of the test size\n",
        "X_train, X_test, y_train, y_test = train_test_split(X,y,test_size = 0.15)"
      ],
      "metadata": {
        "id": "RGtpzG1oPjTz"
      },
      "execution_count": 5,
      "outputs": []
    },
    {
      "cell_type": "code",
      "source": [
        "# Let's build a simple classification pipeline. First import pipeline\n",
        "\n",
        "from sklearn.pipeline import Pipeline\n",
        "\n",
        "# Our data has different dimesions, so let's scale it. Import Scaler\n",
        "\n",
        "from sklearn.preprocessing import StandardScaler\n",
        "\n",
        "# Now let's chose our model \n",
        "\n",
        "from sklearn.linear_model import LinearRegression\n",
        "\n",
        "# Two step pipeline. First preprocess the data with the Standard Scaler,\n",
        "# then add the model, in this case a Logistic Regression \n",
        "\n",
        "pipe = Pipeline([('scaler', StandardScaler()),     # Step 1\n",
        "                 ('model', LinearRegression())     # Step 2\n",
        "                 ])"
      ],
      "metadata": {
        "id": "s2KNPjgaNiQT"
      },
      "execution_count": 6,
      "outputs": []
    },
    {
      "cell_type": "code",
      "source": [
        "pipe.fit(X_train, y_train)"
      ],
      "metadata": {
        "colab": {
          "base_uri": "https://localhost:8080/"
        },
        "id": "FNUa8fVLPXy_",
        "outputId": "3b9ad8a2-59ec-4f99-c4a1-f6ddf7132abc"
      },
      "execution_count": 7,
      "outputs": [
        {
          "output_type": "execute_result",
          "data": {
            "text/plain": [
              "Pipeline(steps=[('scaler', StandardScaler()), ('model', LinearRegression())])"
            ]
          },
          "metadata": {},
          "execution_count": 7
        }
      ]
    },
    {
      "cell_type": "code",
      "source": [
        "pred = pipe.predict(X_test)"
      ],
      "metadata": {
        "id": "yaukM-wDR77m"
      },
      "execution_count": 8,
      "outputs": []
    },
    {
      "cell_type": "code",
      "source": [
        "# CROSS VALIDATION\n",
        "\n",
        "from sklearn.model_selection import KFold\n",
        "from sklearn.model_selection import cross_val_score\n",
        "\n",
        "cv = KFold(n_splits = 2, random_state = 7, shuffle = True)\n",
        "\n",
        "scores = cross_val_score(pipe, X_train, y_train, cv = cv, n_jobs = -1)"
      ],
      "metadata": {
        "id": "KlrtCk1mPmGe"
      },
      "execution_count": 9,
      "outputs": []
    },
    {
      "cell_type": "code",
      "source": [
        "scores"
      ],
      "metadata": {
        "id": "aqzlCKgLtrKM",
        "outputId": "579ac4ef-f522-4cf5-f239-2edeb47bc220",
        "colab": {
          "base_uri": "https://localhost:8080/"
        }
      },
      "execution_count": 10,
      "outputs": [
        {
          "output_type": "execute_result",
          "data": {
            "text/plain": [
              "array([-0.40819003,  0.7462606 ])"
            ]
          },
          "metadata": {},
          "execution_count": 10
        }
      ]
    },
    {
      "cell_type": "code",
      "source": [
        "from sklearn.metrics import r2_score\n",
        "\n",
        "\n",
        "print(\"coef:\", pipe['model'].coef_)\n",
        "print(\"intercept:\", pipe['model'].intercept_)\n",
        "print(\"R2:\", r2_score(y_test, pred))"
      ],
      "metadata": {
        "colab": {
          "base_uri": "https://localhost:8080/"
        },
        "id": "o9QIc3WoTLgN",
        "outputId": "67b4d235-a44d-47de-fa8a-2b8f2d5b7177"
      },
      "execution_count": 11,
      "outputs": [
        {
          "output_type": "stream",
          "name": "stdout",
          "text": [
            "coef: [  47802.58261443   -2341.16622117   49500.45452844  -37207.49613739\n",
            " -561714.69666614   -7641.73535691  245110.44909552  139245.40663261\n",
            "  252177.92091599  -82205.4019568  -108694.37231398  -91664.78484763\n",
            "  -31628.57872041  -10522.73840607 -189445.00994064  -62612.92212648\n",
            "  -22055.30495174  289113.0971847   -92464.90488838 -208834.89530219\n",
            " -154887.84888789  107804.55992867 -183521.75095664   54065.37664187\n",
            " -286333.90348733  252861.32344044  296285.49953186  248586.9769185\n",
            " -238619.55006031  -62946.4561536   145888.80630741   50732.16533069\n",
            "  363224.21840594  217227.56556621 -302361.20511921 -227003.38796782\n",
            "  436055.47810051  126268.8936088    24033.50610074  -71044.27921642\n",
            " -215427.18095772  199949.55035534     633.28376123]\n",
            "intercept: 348729.760000002\n",
            "R2: 0.8353641964105162\n"
          ]
        }
      ]
    }
  ]
}